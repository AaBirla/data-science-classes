{
 "cells": [
  {
   "cell_type": "code",
   "execution_count": 1,
   "id": "ba21357a-5b56-4e52-8362-c6552d940b3c",
   "metadata": {},
   "outputs": [],
   "source": [
    "d={}"
   ]
  },
  {
   "cell_type": "code",
   "execution_count": 2,
   "id": "444aa3c2-a401-4b23-90c5-0d32a0a31a49",
   "metadata": {},
   "outputs": [
    {
     "data": {
      "text/plain": [
       "dict"
      ]
     },
     "execution_count": 2,
     "metadata": {},
     "output_type": "execute_result"
    }
   ],
   "source": [
    "type(d)"
   ]
  },
  {
   "cell_type": "code",
   "execution_count": 3,
   "id": "e81ae8e5-1112-44c6-8349-a273da7144dc",
   "metadata": {},
   "outputs": [],
   "source": [
    "d1={'key':\"Ashish\"}"
   ]
  },
  {
   "cell_type": "code",
   "execution_count": 4,
   "id": "b04f0858-2153-4f2a-b8f8-5c8116fb83cf",
   "metadata": {},
   "outputs": [
    {
     "data": {
      "text/plain": [
       "{'key': 'Ashish'}"
      ]
     },
     "execution_count": 4,
     "metadata": {},
     "output_type": "execute_result"
    }
   ],
   "source": [
    "d1"
   ]
  },
  {
   "cell_type": "code",
   "execution_count": 5,
   "id": "eeef1da1-a145-47f3-aa9e-10008b7d3bdb",
   "metadata": {},
   "outputs": [],
   "source": [
    "d2={'name':\"ashish\",'email':\"aa@gmail.com\",'number':2435}"
   ]
  },
  {
   "cell_type": "code",
   "execution_count": 6,
   "id": "ab1d3843-cf5f-43d5-b432-a31da6e777cf",
   "metadata": {},
   "outputs": [
    {
     "data": {
      "text/plain": [
       "{'name': 'ashish', 'email': 'aa@gmail.com', 'number': 2435}"
      ]
     },
     "execution_count": 6,
     "metadata": {},
     "output_type": "execute_result"
    }
   ],
   "source": [
    "d2"
   ]
  },
  {
   "cell_type": "code",
   "execution_count": 7,
   "id": "992e27d1-9c89-4bb5-9528-24c889adda2e",
   "metadata": {},
   "outputs": [
    {
     "ename": "SyntaxError",
     "evalue": "invalid syntax (2670874997.py, line 1)",
     "output_type": "error",
     "traceback": [
      "\u001b[0;36m  Cell \u001b[0;32mIn[7], line 1\u001b[0;36m\u001b[0m\n\u001b[0;31m    d3={234:\"ashish\",@wer:\"kumar\"}\u001b[0m\n\u001b[0m                     ^\u001b[0m\n\u001b[0;31mSyntaxError\u001b[0m\u001b[0;31m:\u001b[0m invalid syntax\n"
     ]
    }
   ],
   "source": [
    "d3={234:\"ashish\",@wer:\"kumar\"}"
   ]
  },
  {
   "cell_type": "code",
   "execution_count": 10,
   "id": "02444f3a-43b9-4e67-ab7d-7864de14fe93",
   "metadata": {},
   "outputs": [],
   "source": [
    "d3={234:\"ashish\",'@wer':\"kumar\",True:2556}"
   ]
  },
  {
   "cell_type": "code",
   "execution_count": 11,
   "id": "8d47dad8-189d-4f37-8b7c-427f997450bb",
   "metadata": {},
   "outputs": [
    {
     "data": {
      "text/plain": [
       "{234: 'ashish', '@wer': 'kumar', True: 2556}"
      ]
     },
     "execution_count": 11,
     "metadata": {},
     "output_type": "execute_result"
    }
   ],
   "source": [
    "d3"
   ]
  },
  {
   "cell_type": "code",
   "execution_count": 12,
   "id": "998d5341-4bbd-4df4-a30e-29766264ca59",
   "metadata": {},
   "outputs": [
    {
     "data": {
      "text/plain": [
       "'ashish'"
      ]
     },
     "execution_count": 12,
     "metadata": {},
     "output_type": "execute_result"
    }
   ],
   "source": [
    "d3[234]"
   ]
  },
  {
   "cell_type": "code",
   "execution_count": 13,
   "id": "7cd11586-d97a-434e-ac63-9297ea4c228b",
   "metadata": {},
   "outputs": [
    {
     "data": {
      "text/plain": [
       "2556"
      ]
     },
     "execution_count": 13,
     "metadata": {},
     "output_type": "execute_result"
    }
   ],
   "source": [
    "d3[True]"
   ]
  },
  {
   "cell_type": "code",
   "execution_count": 14,
   "id": "d38396ed-255d-469e-ae4b-7344f5117429",
   "metadata": {},
   "outputs": [
    {
     "data": {
      "text/plain": [
       "2556"
      ]
     },
     "execution_count": 14,
     "metadata": {},
     "output_type": "execute_result"
    }
   ],
   "source": [
    "d3[1]"
   ]
  },
  {
   "cell_type": "code",
   "execution_count": 15,
   "id": "5555ff4c-23af-4187-93b4-7a5819c26e98",
   "metadata": {},
   "outputs": [],
   "source": [
    "d4={'name':\"ashish\",'mail':\"aa@gamil.com\",'name':\"mohit\"}"
   ]
  },
  {
   "cell_type": "code",
   "execution_count": 16,
   "id": "3df91136-801a-428a-ba7b-cd29ef3c1e6f",
   "metadata": {},
   "outputs": [
    {
     "data": {
      "text/plain": [
       "'mohit'"
      ]
     },
     "execution_count": 16,
     "metadata": {},
     "output_type": "execute_result"
    }
   ],
   "source": [
    "d4['name']"
   ]
  },
  {
   "cell_type": "code",
   "execution_count": 17,
   "id": "886efd39-b1e4-44cc-b824-455175e48d80",
   "metadata": {},
   "outputs": [],
   "source": [
    "d5={'company':\"pw\",'course':[\"web dev\",\"data science\",\"dsa\"]}"
   ]
  },
  {
   "cell_type": "code",
   "execution_count": 18,
   "id": "90f2d3a5-c936-4299-8391-1ee15e9e5f78",
   "metadata": {},
   "outputs": [
    {
     "data": {
      "text/plain": [
       "{'company': 'pw', 'course': ['web dev', 'data science', 'dsa']}"
      ]
     },
     "execution_count": 18,
     "metadata": {},
     "output_type": "execute_result"
    }
   ],
   "source": [
    "d5"
   ]
  },
  {
   "cell_type": "code",
   "execution_count": 19,
   "id": "e25a1b02-dc0e-47c6-a43b-cdf5421abe3a",
   "metadata": {},
   "outputs": [
    {
     "data": {
      "text/plain": [
       "['web dev', 'data science', 'dsa']"
      ]
     },
     "execution_count": 19,
     "metadata": {},
     "output_type": "execute_result"
    }
   ],
   "source": [
    "d5['course']"
   ]
  },
  {
   "cell_type": "code",
   "execution_count": 20,
   "id": "029a45dd-ed97-437c-a235-99fbaa21c346",
   "metadata": {},
   "outputs": [
    {
     "data": {
      "text/plain": [
       "'data science'"
      ]
     },
     "execution_count": 20,
     "metadata": {},
     "output_type": "execute_result"
    }
   ],
   "source": [
    "d5['course'][1]"
   ]
  },
  {
   "cell_type": "code",
   "execution_count": 21,
   "id": "94869938-3ae9-4654-ba31-de380007e2bd",
   "metadata": {},
   "outputs": [
    {
     "data": {
      "text/plain": [
       "{'company': 'pw', 'course': ['web dev', 'data science', 'dsa']}"
      ]
     },
     "execution_count": 21,
     "metadata": {},
     "output_type": "execute_result"
    }
   ],
   "source": [
    "d5"
   ]
  },
  {
   "cell_type": "code",
   "execution_count": 22,
   "id": "32930e99-b730-4893-b7ae-760504c61545",
   "metadata": {},
   "outputs": [],
   "source": [
    "d6={\"number\":[2,34,5,6,6],\"assg\":(1,2,3,4,5),\"launch date\":{3,23,4},'class_time':{'web':9,'dsa':10,'datascience':11}}"
   ]
  },
  {
   "cell_type": "code",
   "execution_count": 23,
   "id": "49a9f9bb-499a-4664-92ed-6a8c940deaca",
   "metadata": {},
   "outputs": [
    {
     "data": {
      "text/plain": [
       "{'number': [2, 34, 5, 6, 6],\n",
       " 'assg': (1, 2, 3, 4, 5),\n",
       " 'launch date': {3, 4, 23},\n",
       " 'class_time': {'web': 9, 'dsa': 10, 'datascience': 11}}"
      ]
     },
     "execution_count": 23,
     "metadata": {},
     "output_type": "execute_result"
    }
   ],
   "source": [
    "d6"
   ]
  },
  {
   "cell_type": "code",
   "execution_count": 24,
   "id": "49052e54-019f-4759-b424-7e87fd16cf39",
   "metadata": {},
   "outputs": [],
   "source": [
    "# dict me list,tuple,set,dict sabhi use kr skte h upr dekho"
   ]
  },
  {
   "cell_type": "code",
   "execution_count": 25,
   "id": "267ca401-1151-4f24-94b4-23f45ced3e7e",
   "metadata": {},
   "outputs": [
    {
     "data": {
      "text/plain": [
       "10"
      ]
     },
     "execution_count": 25,
     "metadata": {},
     "output_type": "execute_result"
    }
   ],
   "source": [
    "d6['class_time']['dsa']\n"
   ]
  },
  {
   "cell_type": "code",
   "execution_count": 26,
   "id": "11c6cf28-86b3-4f9f-af2f-a99f212ca7fd",
   "metadata": {},
   "outputs": [],
   "source": [
    "d6['assg']=(2,3,4  )"
   ]
  },
  {
   "cell_type": "code",
   "execution_count": 27,
   "id": "9eb78d25-2e9c-41f6-8821-4fd28b692e90",
   "metadata": {},
   "outputs": [
    {
     "data": {
      "text/plain": [
       "{'number': [2, 34, 5, 6, 6],\n",
       " 'assg': (2, 3, 4),\n",
       " 'launch date': {3, 4, 23},\n",
       " 'class_time': {'web': 9, 'dsa': 10, 'datascience': 11}}"
      ]
     },
     "execution_count": 27,
     "metadata": {},
     "output_type": "execute_result"
    }
   ],
   "source": [
    "d6"
   ]
  },
  {
   "cell_type": "code",
   "execution_count": 28,
   "id": "fb819664-effe-4fda-b878-8aea77166f77",
   "metadata": {},
   "outputs": [],
   "source": [
    "d6['mentor']=['sudhanshu','krish']"
   ]
  },
  {
   "cell_type": "code",
   "execution_count": 29,
   "id": "e6afeb74-8a31-4b0a-92a7-225385866dd9",
   "metadata": {},
   "outputs": [
    {
     "data": {
      "text/plain": [
       "{'number': [2, 34, 5, 6, 6],\n",
       " 'assg': (2, 3, 4),\n",
       " 'launch date': {3, 4, 23},\n",
       " 'class_time': {'web': 9, 'dsa': 10, 'datascience': 11},\n",
       " 'mentor': ['sudhanshu', 'krish']}"
      ]
     },
     "execution_count": 29,
     "metadata": {},
     "output_type": "execute_result"
    }
   ],
   "source": [
    "d6"
   ]
  },
  {
   "cell_type": "code",
   "execution_count": 30,
   "id": "b0c72253-295a-4612-9ce6-7f75a2d82cc4",
   "metadata": {},
   "outputs": [],
   "source": [
    "del d6['number']"
   ]
  },
  {
   "cell_type": "code",
   "execution_count": 31,
   "id": "8c90d2eb-fe13-4188-ba3a-6866a9f0f21b",
   "metadata": {},
   "outputs": [
    {
     "data": {
      "text/plain": [
       "{'assg': (2, 3, 4),\n",
       " 'launch date': {3, 4, 23},\n",
       " 'class_time': {'web': 9, 'dsa': 10, 'datascience': 11},\n",
       " 'mentor': ['sudhanshu', 'krish']}"
      ]
     },
     "execution_count": 31,
     "metadata": {},
     "output_type": "execute_result"
    }
   ],
   "source": [
    "d6\n"
   ]
  },
  {
   "cell_type": "code",
   "execution_count": 32,
   "id": "a9618fbc-c5c3-4c0b-819a-c1f24b07c585",
   "metadata": {},
   "outputs": [
    {
     "data": {
      "text/plain": [
       "dict_keys(['assg', 'launch date', 'class_time', 'mentor'])"
      ]
     },
     "execution_count": 32,
     "metadata": {},
     "output_type": "execute_result"
    }
   ],
   "source": [
    "d6.keys()\n"
   ]
  },
  {
   "cell_type": "code",
   "execution_count": 33,
   "id": "ed79c8f2-647a-4387-9e02-6fa9b1c5afc6",
   "metadata": {},
   "outputs": [
    {
     "data": {
      "text/plain": [
       "['assg', 'launch date', 'class_time', 'mentor']"
      ]
     },
     "execution_count": 33,
     "metadata": {},
     "output_type": "execute_result"
    }
   ],
   "source": [
    "list(d6.keys())"
   ]
  },
  {
   "cell_type": "code",
   "execution_count": 34,
   "id": "9e1777c3-186d-49f2-ae67-c2c20c05fc02",
   "metadata": {},
   "outputs": [
    {
     "data": {
      "text/plain": [
       "dict_values([(2, 3, 4), {3, 4, 23}, {'web': 9, 'dsa': 10, 'datascience': 11}, ['sudhanshu', 'krish']])"
      ]
     },
     "execution_count": 34,
     "metadata": {},
     "output_type": "execute_result"
    }
   ],
   "source": [
    "d6.values()"
   ]
  },
  {
   "cell_type": "code",
   "execution_count": 35,
   "id": "056ceb14-ac1a-4c3d-9e6f-e88c96c12bf0",
   "metadata": {},
   "outputs": [
    {
     "data": {
      "text/plain": [
       "[('assg', (2, 3, 4)),\n",
       " ('launch date', {3, 4, 23}),\n",
       " ('class_time', {'web': 9, 'dsa': 10, 'datascience': 11}),\n",
       " ('mentor', ['sudhanshu', 'krish'])]"
      ]
     },
     "execution_count": 35,
     "metadata": {},
     "output_type": "execute_result"
    }
   ],
   "source": [
    "list(d6.items())"
   ]
  },
  {
   "cell_type": "code",
   "execution_count": 36,
   "id": "5393fef7-f77f-4129-a0db-87f4c66af8cf",
   "metadata": {},
   "outputs": [
    {
     "data": {
      "text/plain": [
       "['sudhanshu', 'krish']"
      ]
     },
     "execution_count": 36,
     "metadata": {},
     "output_type": "execute_result"
    }
   ],
   "source": [
    "d6.pop('mentor')"
   ]
  },
  {
   "cell_type": "code",
   "execution_count": 37,
   "id": "bfe832be-f8b6-4906-8229-c1720600d007",
   "metadata": {},
   "outputs": [
    {
     "data": {
      "text/plain": [
       "{'assg': (2, 3, 4),\n",
       " 'launch date': {3, 4, 23},\n",
       " 'class_time': {'web': 9, 'dsa': 10, 'datascience': 11}}"
      ]
     },
     "execution_count": 37,
     "metadata": {},
     "output_type": "execute_result"
    }
   ],
   "source": [
    "d6"
   ]
  },
  {
   "cell_type": "code",
   "execution_count": 38,
   "id": "dbc9e7b7-57a1-4455-97d9-50d33dbc69dd",
   "metadata": {},
   "outputs": [],
   "source": [
    "\n",
    "# conditional\n"
   ]
  },
  {
   "cell_type": "code",
   "execution_count": null,
   "id": "ff76faef-b956-41a1-9f9a-2b12d1bf3608",
   "metadata": {},
   "outputs": [],
   "source": []
  },
  {
   "cell_type": "code",
   "execution_count": 39,
   "id": "f45f44ac-20e7-49e7-9b04-f923ac7bb489",
   "metadata": {},
   "outputs": [
    {
     "name": "stdout",
     "output_type": "stream",
     "text": [
      "you will be a part of A1 batch\n"
     ]
    }
   ],
   "source": [
    "marks=65\n",
    "if marks>=80:\n",
    "    print(\"you will be a part of A0 batch\")\n",
    "elif marks>=60 and marks<80:\n",
    "    print(\"you will be a part of A1 batch\")\n",
    "elif marks>=40 and marks <60:\n",
    "    print(\"you will be a part of A2 batch\")\n",
    "else: \n",
    "    print(\"you will be a part of A3 batch\")"
   ]
  },
  {
   "cell_type": "code",
   "execution_count": 44,
   "id": "44babd46-9d9e-48f8-89b6-092e97ad4b77",
   "metadata": {},
   "outputs": [
    {
     "name": "stdin",
     "output_type": "stream",
     "text": [
      "enter your marks 98\n"
     ]
    },
    {
     "name": "stdout",
     "output_type": "stream",
     "text": [
      "you will be a part of A0 batch\n"
     ]
    }
   ],
   "source": [
    "marks=int(input(\"enter your marks\"))\n",
    "if marks>=80:\n",
    "    print(\"you will be a part of A0 batch\")\n",
    "elif marks>=60 and marks<80:\n",
    "    print(\"you will be a part of A1 batch\")\n",
    "elif marks>=40 and marks <60:\n",
    "    print(\"you will be a part of A2 batch\")\n",
    "else: \n",
    "    print(\"you will be a part of A3 batch\")"
   ]
  },
  {
   "cell_type": "code",
   "execution_count": 46,
   "id": "88b33da2-5388-44a6-9996-239565593984",
   "metadata": {},
   "outputs": [
    {
     "name": "stdin",
     "output_type": "stream",
     "text": [
      "enter no. 56\n"
     ]
    }
   ],
   "source": [
    "marks=input(\"enter no.\")"
   ]
  },
  {
   "cell_type": "code",
   "execution_count": 47,
   "id": "51b31553-8bdb-474a-bdc6-74180127068b",
   "metadata": {},
   "outputs": [
    {
     "data": {
      "text/plain": [
       "'56'"
      ]
     },
     "execution_count": 47,
     "metadata": {},
     "output_type": "execute_result"
    }
   ],
   "source": [
    "marks\n"
   ]
  },
  {
   "cell_type": "code",
   "execution_count": 48,
   "id": "80a033e8-0133-4dc1-b924-46a01e30c950",
   "metadata": {},
   "outputs": [
    {
     "data": {
      "text/plain": [
       "str"
      ]
     },
     "execution_count": 48,
     "metadata": {},
     "output_type": "execute_result"
    }
   ],
   "source": [
    "type(marks)"
   ]
  },
  {
   "cell_type": "code",
   "execution_count": 49,
   "id": "a2fa5f88-0701-4586-aecd-462a5bcda0da",
   "metadata": {},
   "outputs": [
    {
     "name": "stdin",
     "output_type": "stream",
     "text": [
      "enter price 678\n"
     ]
    },
    {
     "name": "stdout",
     "output_type": "stream",
     "text": [
      "i will purchase\n"
     ]
    }
   ],
   "source": [
    "price=int(input(\"enter price\"))\n",
    "if price > 1000:\n",
    "    print(\"i will not purchase\")\n",
    "else:\n",
    "    print(\"i will purchase\")"
   ]
  },
  {
   "cell_type": "code",
   "execution_count": 50,
   "id": "cb9ffe7b-d352-4b04-a52f-e1ff1c1826de",
   "metadata": {},
   "outputs": [
    {
     "name": "stdin",
     "output_type": "stream",
     "text": [
      "enter price 7000\n"
     ]
    },
    {
     "name": "stdout",
     "output_type": "stream",
     "text": [
      "i will not purchase\n",
      "this is too much\n"
     ]
    }
   ],
   "source": [
    "price=int(input(\"enter price\"))\n",
    "if price > 1000:\n",
    "    print(\"i will not purchase\")\n",
    "    if price> 5000:\n",
    "       print(\"this is too much\") \n",
    "    elif price< 2000:\n",
    "        print(\"it's ohk\")\n",
    "elif price<1000:\n",
    "    print(\"i will purchase\")\n",
    "else:\n",
    "    print(\"not interested\")\n"
   ]
  },
  {
   "cell_type": "code",
   "execution_count": null,
   "id": "42c8e4a2-278a-4c7a-a49b-a4f06555e8d2",
   "metadata": {},
   "outputs": [],
   "source": [
    "\n",
    "\n",
    "# ....Loops...\n",
    "\n"
   ]
  },
  {
   "cell_type": "markdown",
   "id": "3e094331-c5ab-4fbe-b16e-7f95e1c9c23f",
   "metadata": {},
   "source": [
    "# "
   ]
  },
  {
   "cell_type": "code",
   "execution_count": 51,
   "id": "fdfe4e24-755a-4cdd-bb33-75019155d883",
   "metadata": {},
   "outputs": [],
   "source": [
    "l=[1,2,3,43,4,5,4,8]"
   ]
  },
  {
   "cell_type": "code",
   "execution_count": 52,
   "id": "a2efeeb2-14db-4ebb-8115-e5840eaebe93",
   "metadata": {},
   "outputs": [],
   "source": [
    "l1=[]"
   ]
  },
  {
   "cell_type": "code",
   "execution_count": 53,
   "id": "8e631ed0-0215-4613-8e01-519d72075366",
   "metadata": {},
   "outputs": [],
   "source": [
    "for i in l:\n",
    "    i+=1\n",
    "    l1.append(i)"
   ]
  },
  {
   "cell_type": "code",
   "execution_count": 54,
   "id": "24beec66-f719-447f-b93a-06d2a7fdbb61",
   "metadata": {},
   "outputs": [
    {
     "data": {
      "text/plain": [
       "[2, 3, 4, 44, 5, 6, 5, 9]"
      ]
     },
     "execution_count": 54,
     "metadata": {},
     "output_type": "execute_result"
    }
   ],
   "source": [
    "l1"
   ]
  },
  {
   "cell_type": "code",
   "execution_count": 55,
   "id": "3e55bd31-2650-4cce-8c44-063515502e75",
   "metadata": {},
   "outputs": [
    {
     "name": "stdout",
     "output_type": "stream",
     "text": [
      "1\n",
      "2\n",
      "3\n",
      "43\n",
      "4\n",
      "5\n",
      "4\n",
      "8\n"
     ]
    }
   ],
   "source": [
    "for i in l:\n",
    "    print(i)"
   ]
  },
  {
   "cell_type": "code",
   "execution_count": 56,
   "id": "9cc44757-f115-4365-bc8b-7f0ff2e71bd5",
   "metadata": {},
   "outputs": [],
   "source": [
    "l=[\"ashish\",\"kumar\",\"pwskills\"]"
   ]
  },
  {
   "cell_type": "code",
   "execution_count": 57,
   "id": "013e4840-e03f-4c45-9d16-d759d0d49fd0",
   "metadata": {},
   "outputs": [
    {
     "data": {
      "text/plain": [
       "'ASHISH'"
      ]
     },
     "execution_count": 57,
     "metadata": {},
     "output_type": "execute_result"
    }
   ],
   "source": [
    "l[0].upper()"
   ]
  },
  {
   "cell_type": "code",
   "execution_count": 58,
   "id": "abd3cc74-0917-47fe-b744-9e53f716a241",
   "metadata": {},
   "outputs": [],
   "source": [
    "l1=[]"
   ]
  },
  {
   "cell_type": "code",
   "execution_count": 59,
   "id": "b20ceee2-cfc0-456d-b006-f8463b4f332b",
   "metadata": {},
   "outputs": [],
   "source": [
    "for i in l:\n",
    "    l1.append(i.upper())"
   ]
  },
  {
   "cell_type": "code",
   "execution_count": 61,
   "id": "3e6d1023-82ab-47be-92b4-4e2154ea91be",
   "metadata": {},
   "outputs": [
    {
     "data": {
      "text/plain": [
       "['ASHISH', 'KUMAR', 'PWSKILLS']"
      ]
     },
     "execution_count": 61,
     "metadata": {},
     "output_type": "execute_result"
    }
   ],
   "source": [
    "l1"
   ]
  },
  {
   "cell_type": "code",
   "execution_count": 64,
   "id": "af1ab71f-1756-4cf9-b7fc-dd42cb51112b",
   "metadata": {},
   "outputs": [],
   "source": [
    "l=[1,2,3,4,4,\"ashish\",\"kumar\",34.5]"
   ]
  },
  {
   "cell_type": "code",
   "execution_count": 65,
   "id": "c9f5b67b-65b6-4aac-8f38-b9b3f5724c69",
   "metadata": {},
   "outputs": [],
   "source": [
    "l1_num=[]\n",
    "l2_str=[]\n",
    "for i in l:\n",
    "    if type(i)==int or type(i)==float:\n",
    "        l1_num.append(i)\n",
    "    else:\n",
    "        l2_str.append(i)\n",
    "    \n",
    "    \n",
    "    "
   ]
  },
  {
   "cell_type": "code",
   "execution_count": 66,
   "id": "aedfa7bd-aaa2-4111-8c49-b839c492a032",
   "metadata": {},
   "outputs": [
    {
     "data": {
      "text/plain": [
       "[1, 2, 3, 4, 4, 34.5]"
      ]
     },
     "execution_count": 66,
     "metadata": {},
     "output_type": "execute_result"
    }
   ],
   "source": [
    "l1_num"
   ]
  },
  {
   "cell_type": "code",
   "execution_count": 67,
   "id": "00f4e18f-b2f7-4e12-9511-5b6fb5281f93",
   "metadata": {},
   "outputs": [
    {
     "data": {
      "text/plain": [
       "['ashish', 'kumar']"
      ]
     },
     "execution_count": 67,
     "metadata": {},
     "output_type": "execute_result"
    }
   ],
   "source": [
    "l2_str"
   ]
  },
  {
   "cell_type": "code",
   "execution_count": 68,
   "id": "7c94ecb8-2e96-44c8-ac32-fb1d50bb0df9",
   "metadata": {},
   "outputs": [
    {
     "data": {
      "text/plain": [
       "['ASHISH', 'KUMAR', 'PWSKILLS']"
      ]
     },
     "execution_count": 68,
     "metadata": {},
     "output_type": "execute_result"
    }
   ],
   "source": [
    "l1"
   ]
  },
  {
   "cell_type": "code",
   "execution_count": null,
   "id": "172268c3-90cc-4fe8-aa25-f57426ee44cb",
   "metadata": {},
   "outputs": [],
   "source": []
  }
 ],
 "metadata": {
  "kernelspec": {
   "display_name": "Python 3 (ipykernel)",
   "language": "python",
   "name": "python3"
  },
  "language_info": {
   "codemirror_mode": {
    "name": "ipython",
    "version": 3
   },
   "file_extension": ".py",
   "mimetype": "text/x-python",
   "name": "python",
   "nbconvert_exporter": "python",
   "pygments_lexer": "ipython3",
   "version": "3.10.8"
  }
 },
 "nbformat": 4,
 "nbformat_minor": 5
}
