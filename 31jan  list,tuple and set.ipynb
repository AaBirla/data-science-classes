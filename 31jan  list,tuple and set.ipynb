{
 "cells": [
  {
   "cell_type": "code",
   "execution_count": 1,
   "id": "bbd8aa49-1aa4-474e-a334-98e558d78a30",
   "metadata": {},
   "outputs": [],
   "source": [
    "l=[2,3.4,'ashish',5+7j,True]"
   ]
  },
  {
   "cell_type": "code",
   "execution_count": 2,
   "id": "0f897547-7bb2-448f-b22a-83ca90f2bd2e",
   "metadata": {},
   "outputs": [
    {
     "data": {
      "text/plain": [
       "[2, 3.4, 'ashish', (5+7j), True]"
      ]
     },
     "execution_count": 2,
     "metadata": {},
     "output_type": "execute_result"
    }
   ],
   "source": [
    "l"
   ]
  },
  {
   "cell_type": "code",
   "execution_count": 3,
   "id": "913d4c88-07a1-4c0f-a90e-66fc1af8b51f",
   "metadata": {},
   "outputs": [
    {
     "data": {
      "text/plain": [
       "list"
      ]
     },
     "execution_count": 3,
     "metadata": {},
     "output_type": "execute_result"
    }
   ],
   "source": [
    "type(l)"
   ]
  },
  {
   "cell_type": "code",
   "execution_count": 4,
   "id": "afafb9b3-5d58-44d2-8e80-7abb0770a0c5",
   "metadata": {},
   "outputs": [
    {
     "data": {
      "text/plain": [
       "2"
      ]
     },
     "execution_count": 4,
     "metadata": {},
     "output_type": "execute_result"
    }
   ],
   "source": [
    "l[0]"
   ]
  },
  {
   "cell_type": "code",
   "execution_count": 5,
   "id": "0376676d-16e6-4cd9-980d-dde1e8ecc443",
   "metadata": {},
   "outputs": [
    {
     "data": {
      "text/plain": [
       "(5+7j)"
      ]
     },
     "execution_count": 5,
     "metadata": {},
     "output_type": "execute_result"
    }
   ],
   "source": [
    "l[3]"
   ]
  },
  {
   "cell_type": "code",
   "execution_count": 6,
   "id": "c95b27d4-fee6-4516-a71b-b17056d530b1",
   "metadata": {},
   "outputs": [
    {
     "ename": "IndexError",
     "evalue": "list index out of range",
     "output_type": "error",
     "traceback": [
      "\u001b[0;31m---------------------------------------------------------------------------\u001b[0m",
      "\u001b[0;31mIndexError\u001b[0m                                Traceback (most recent call last)",
      "Cell \u001b[0;32mIn[6], line 1\u001b[0m\n\u001b[0;32m----> 1\u001b[0m \u001b[43ml\u001b[49m\u001b[43m[\u001b[49m\u001b[38;5;241;43m90\u001b[39;49m\u001b[43m]\u001b[49m\n",
      "\u001b[0;31mIndexError\u001b[0m: list index out of range"
     ]
    }
   ],
   "source": [
    "l[90]"
   ]
  },
  {
   "cell_type": "code",
   "execution_count": null,
   "id": "dbe2a530-2c44-4144-8fb9-76bbdd6b0f4d",
   "metadata": {},
   "outputs": [],
   "source": [
    "l\n"
   ]
  },
  {
   "cell_type": "code",
   "execution_count": null,
   "id": "65392cad-1ae4-45af-acea-f33bf2de5264",
   "metadata": {},
   "outputs": [],
   "source": [
    "l[0:3]"
   ]
  },
  {
   "cell_type": "code",
   "execution_count": null,
   "id": "1220159d-f40f-4396-bc15-31462c4aa1cd",
   "metadata": {},
   "outputs": [],
   "source": [
    "l[-1]"
   ]
  },
  {
   "cell_type": "code",
   "execution_count": null,
   "id": "c0532864-7d10-407e-b69c-8f64e7393bee",
   "metadata": {},
   "outputs": [],
   "source": [
    "l[::-1]"
   ]
  },
  {
   "cell_type": "code",
   "execution_count": 7,
   "id": "2385cf67-77dd-4c98-abb0-30a6e8cf46c7",
   "metadata": {},
   "outputs": [
    {
     "data": {
      "text/plain": [
       "[2, 'ashish', True]"
      ]
     },
     "execution_count": 7,
     "metadata": {},
     "output_type": "execute_result"
    }
   ],
   "source": [
    "l[::2]"
   ]
  },
  {
   "cell_type": "code",
   "execution_count": 8,
   "id": "34f92424-cee0-47c1-9f39-b26f41eb8241",
   "metadata": {},
   "outputs": [
    {
     "data": {
      "text/plain": [
       "[2, 3.4, 'ashish', (5+7j), True]"
      ]
     },
     "execution_count": 8,
     "metadata": {},
     "output_type": "execute_result"
    }
   ],
   "source": [
    "l"
   ]
  },
  {
   "cell_type": "code",
   "execution_count": 9,
   "id": "bd70eec2-2a8f-4809-a85d-407940caa050",
   "metadata": {},
   "outputs": [],
   "source": [
    "s=\"pwskills\""
   ]
  },
  {
   "cell_type": "code",
   "execution_count": 10,
   "id": "18e20107-55e8-427b-987e-179a750c2c4b",
   "metadata": {},
   "outputs": [
    {
     "ename": "TypeError",
     "evalue": "can only concatenate list (not \"str\") to list",
     "output_type": "error",
     "traceback": [
      "\u001b[0;31m---------------------------------------------------------------------------\u001b[0m",
      "\u001b[0;31mTypeError\u001b[0m                                 Traceback (most recent call last)",
      "Cell \u001b[0;32mIn[10], line 1\u001b[0m\n\u001b[0;32m----> 1\u001b[0m \u001b[43ml\u001b[49m\u001b[38;5;241;43m+\u001b[39;49m\u001b[43ms\u001b[49m\n",
      "\u001b[0;31mTypeError\u001b[0m: can only concatenate list (not \"str\") to list"
     ]
    }
   ],
   "source": [
    "l+s"
   ]
  },
  {
   "cell_type": "code",
   "execution_count": 11,
   "id": "9c8a841d-f512-4795-af32-77a15c56b306",
   "metadata": {},
   "outputs": [
    {
     "data": {
      "text/plain": [
       "['p', 'w', 's', 'k', 'i', 'l', 'l', 's']"
      ]
     },
     "execution_count": 11,
     "metadata": {},
     "output_type": "execute_result"
    }
   ],
   "source": [
    "list(s)"
   ]
  },
  {
   "cell_type": "code",
   "execution_count": 12,
   "id": "c152f17e-0597-4293-b6bd-5c00bd77611a",
   "metadata": {},
   "outputs": [
    {
     "data": {
      "text/plain": [
       "['p', 'w', 's', 'k', 'i', 'l', 'l', 's', 2, 3.4, 'ashish', (5+7j), True]"
      ]
     },
     "execution_count": 12,
     "metadata": {},
     "output_type": "execute_result"
    }
   ],
   "source": [
    "list(s)+l"
   ]
  },
  {
   "cell_type": "code",
   "execution_count": 13,
   "id": "ba0d6253-c0cf-408e-973a-b5992d316e84",
   "metadata": {},
   "outputs": [
    {
     "data": {
      "text/plain": [
       "[2, 3.4, 'ashish', (5+7j), True]"
      ]
     },
     "execution_count": 13,
     "metadata": {},
     "output_type": "execute_result"
    }
   ],
   "source": [
    "l"
   ]
  },
  {
   "cell_type": "code",
   "execution_count": 14,
   "id": "e3663f2a-7150-4bb2-bc77-915457d18a55",
   "metadata": {},
   "outputs": [
    {
     "data": {
      "text/plain": [
       "'ashish'"
      ]
     },
     "execution_count": 14,
     "metadata": {},
     "output_type": "execute_result"
    }
   ],
   "source": [
    "l[2]"
   ]
  },
  {
   "cell_type": "code",
   "execution_count": 15,
   "id": "8de93cfc-2da2-433c-8e81-0fb3e9e393e1",
   "metadata": {},
   "outputs": [
    {
     "data": {
      "text/plain": [
       "'as'"
      ]
     },
     "execution_count": 15,
     "metadata": {},
     "output_type": "execute_result"
    }
   ],
   "source": [
    "l[2][0:2]"
   ]
  },
  {
   "cell_type": "code",
   "execution_count": 16,
   "id": "95770d2c-e41f-4538-8983-92e1d494f775",
   "metadata": {},
   "outputs": [
    {
     "data": {
      "text/plain": [
       "'Tr'"
      ]
     },
     "execution_count": 16,
     "metadata": {},
     "output_type": "execute_result"
    }
   ],
   "source": [
    "str(l[4])[0:2]"
   ]
  },
  {
   "cell_type": "code",
   "execution_count": 17,
   "id": "a2822405-7bdd-486f-8602-207a974f79e0",
   "metadata": {},
   "outputs": [
    {
     "data": {
      "text/plain": [
       "[2, 3.4, 'ashish', (5+7j), True]"
      ]
     },
     "execution_count": 17,
     "metadata": {},
     "output_type": "execute_result"
    }
   ],
   "source": [
    "l"
   ]
  },
  {
   "cell_type": "code",
   "execution_count": 18,
   "id": "4ebc8b8f-7873-43e6-a004-b9fb84e92123",
   "metadata": {},
   "outputs": [
    {
     "ename": "TypeError",
     "evalue": "can only concatenate list (not \"int\") to list",
     "output_type": "error",
     "traceback": [
      "\u001b[0;31m---------------------------------------------------------------------------\u001b[0m",
      "\u001b[0;31mTypeError\u001b[0m                                 Traceback (most recent call last)",
      "Cell \u001b[0;32mIn[18], line 1\u001b[0m\n\u001b[0;32m----> 1\u001b[0m \u001b[43ml\u001b[49m\u001b[38;5;241;43m+\u001b[39;49m\u001b[38;5;241;43m5\u001b[39;49m\n",
      "\u001b[0;31mTypeError\u001b[0m: can only concatenate list (not \"int\") to list"
     ]
    }
   ],
   "source": [
    "l+5"
   ]
  },
  {
   "cell_type": "code",
   "execution_count": 19,
   "id": "73f31140-90f2-48fd-83df-27455d2be429",
   "metadata": {},
   "outputs": [],
   "source": [
    "l1=[3,4,5]"
   ]
  },
  {
   "cell_type": "code",
   "execution_count": 20,
   "id": "0f14ff4a-92ee-491a-b222-27b6014973ab",
   "metadata": {},
   "outputs": [
    {
     "data": {
      "text/plain": [
       "[2, 3.4, 'ashish', (5+7j), True, 3, 4, 5]"
      ]
     },
     "execution_count": 20,
     "metadata": {},
     "output_type": "execute_result"
    }
   ],
   "source": [
    "l+l1"
   ]
  },
  {
   "cell_type": "code",
   "execution_count": 21,
   "id": "cd7633b2-c005-47e5-b415-04f542a09723",
   "metadata": {},
   "outputs": [
    {
     "data": {
      "text/plain": [
       "[3, 4, 5]"
      ]
     },
     "execution_count": 21,
     "metadata": {},
     "output_type": "execute_result"
    }
   ],
   "source": [
    "l1"
   ]
  },
  {
   "cell_type": "code",
   "execution_count": 22,
   "id": "7451d190-b745-4276-984c-b0080f1624d2",
   "metadata": {},
   "outputs": [
    {
     "data": {
      "text/plain": [
       "[3, 4, 5, 3, 4, 5, 3, 4, 5]"
      ]
     },
     "execution_count": 22,
     "metadata": {},
     "output_type": "execute_result"
    }
   ],
   "source": [
    "l1*3"
   ]
  },
  {
   "cell_type": "code",
   "execution_count": 23,
   "id": "649960ec-cff8-4a3c-8206-2edcb2fa2c03",
   "metadata": {},
   "outputs": [
    {
     "data": {
      "text/plain": [
       "[2, 3.4, 'ashish', (5+7j), True]"
      ]
     },
     "execution_count": 23,
     "metadata": {},
     "output_type": "execute_result"
    }
   ],
   "source": [
    "l"
   ]
  },
  {
   "cell_type": "code",
   "execution_count": 24,
   "id": "1b86d9d8-c1fb-47e3-a40a-4a27ffa1e64f",
   "metadata": {},
   "outputs": [
    {
     "data": {
      "text/plain": [
       "5"
      ]
     },
     "execution_count": 24,
     "metadata": {},
     "output_type": "execute_result"
    }
   ],
   "source": [
    "len(l)"
   ]
  },
  {
   "cell_type": "code",
   "execution_count": 25,
   "id": "1f557c69-5175-44af-9444-ea22bbc6edcf",
   "metadata": {},
   "outputs": [],
   "source": [
    "# APPEND\n",
    "l.append(5)"
   ]
  },
  {
   "cell_type": "code",
   "execution_count": 26,
   "id": "9763761e-ac11-461d-9494-c714662a7cfc",
   "metadata": {},
   "outputs": [
    {
     "data": {
      "text/plain": [
       "[2, 3.4, 'ashish', (5+7j), True, 5]"
      ]
     },
     "execution_count": 26,
     "metadata": {},
     "output_type": "execute_result"
    }
   ],
   "source": [
    "l"
   ]
  },
  {
   "cell_type": "code",
   "execution_count": 27,
   "id": "a667c808-1cbe-451c-92a2-d2f4d39d98d3",
   "metadata": {},
   "outputs": [],
   "source": [
    "l.append(s)"
   ]
  },
  {
   "cell_type": "code",
   "execution_count": 28,
   "id": "4c9ec921-b44e-4584-abfa-3f1b9b910bd1",
   "metadata": {},
   "outputs": [
    {
     "data": {
      "text/plain": [
       "'pwskills'"
      ]
     },
     "execution_count": 28,
     "metadata": {},
     "output_type": "execute_result"
    }
   ],
   "source": [
    "s"
   ]
  },
  {
   "cell_type": "code",
   "execution_count": 29,
   "id": "5f41883e-56f2-4f47-914e-df76be0cb5f5",
   "metadata": {},
   "outputs": [
    {
     "data": {
      "text/plain": [
       "[2, 3.4, 'ashish', (5+7j), True, 5, 'pwskills']"
      ]
     },
     "execution_count": 29,
     "metadata": {},
     "output_type": "execute_result"
    }
   ],
   "source": [
    "l"
   ]
  },
  {
   "cell_type": "code",
   "execution_count": 30,
   "id": "8b5681ea-50cf-4374-af45-57fdc7e18a47",
   "metadata": {},
   "outputs": [
    {
     "data": {
      "text/plain": [
       "[2, 3.4, 'ashish', (5+7j), True, 5, 'pwskills']"
      ]
     },
     "execution_count": 30,
     "metadata": {},
     "output_type": "execute_result"
    }
   ],
   "source": [
    "l"
   ]
  },
  {
   "cell_type": "code",
   "execution_count": 31,
   "id": "7f0e9cc4-6c77-4841-a9b5-cd6f2b891489",
   "metadata": {},
   "outputs": [
    {
     "data": {
      "text/plain": [
       "[3, 4, 5]"
      ]
     },
     "execution_count": 31,
     "metadata": {},
     "output_type": "execute_result"
    }
   ],
   "source": [
    "l1"
   ]
  },
  {
   "cell_type": "code",
   "execution_count": 32,
   "id": "b0249739-7164-43f4-aff9-4a748933ea11",
   "metadata": {},
   "outputs": [],
   "source": [
    "l.append(l1)"
   ]
  },
  {
   "cell_type": "code",
   "execution_count": 33,
   "id": "dcdae864-05f9-4a71-9d08-2a035b19b889",
   "metadata": {},
   "outputs": [
    {
     "data": {
      "text/plain": [
       "[2, 3.4, 'ashish', (5+7j), True, 5, 'pwskills', [3, 4, 5]]"
      ]
     },
     "execution_count": 33,
     "metadata": {},
     "output_type": "execute_result"
    }
   ],
   "source": [
    "l"
   ]
  },
  {
   "cell_type": "code",
   "execution_count": 34,
   "id": "6ed39713-065b-431f-a38e-8c94f53e409c",
   "metadata": {},
   "outputs": [
    {
     "data": {
      "text/plain": [
       "True"
      ]
     },
     "execution_count": 34,
     "metadata": {},
     "output_type": "execute_result"
    }
   ],
   "source": [
    "l.pop(4)"
   ]
  },
  {
   "cell_type": "code",
   "execution_count": 35,
   "id": "1881e690-762d-49d1-be12-e3ea50e75d34",
   "metadata": {},
   "outputs": [
    {
     "data": {
      "text/plain": [
       "[2, 3.4, 'ashish', (5+7j), 5, 'pwskills', [3, 4, 5]]"
      ]
     },
     "execution_count": 35,
     "metadata": {},
     "output_type": "execute_result"
    }
   ],
   "source": [
    "l"
   ]
  },
  {
   "cell_type": "code",
   "execution_count": 36,
   "id": "17a71b86-419a-43ed-bd37-9ce2e036a7c5",
   "metadata": {},
   "outputs": [
    {
     "data": {
      "text/plain": [
       "5"
      ]
     },
     "execution_count": 36,
     "metadata": {},
     "output_type": "execute_result"
    }
   ],
   "source": [
    "l.pop(4)"
   ]
  },
  {
   "cell_type": "code",
   "execution_count": 37,
   "id": "5589a2d1-f46f-4018-94c1-3502d586f799",
   "metadata": {},
   "outputs": [
    {
     "ename": "ValueError",
     "evalue": "list.remove(x): x not in list",
     "output_type": "error",
     "traceback": [
      "\u001b[0;31m---------------------------------------------------------------------------\u001b[0m",
      "\u001b[0;31mValueError\u001b[0m                                Traceback (most recent call last)",
      "Cell \u001b[0;32mIn[37], line 1\u001b[0m\n\u001b[0;32m----> 1\u001b[0m \u001b[43ml\u001b[49m\u001b[38;5;241;43m.\u001b[39;49m\u001b[43mremove\u001b[49m\u001b[43m(\u001b[49m\u001b[38;5;241;43m4\u001b[39;49m\u001b[43m)\u001b[49m\n",
      "\u001b[0;31mValueError\u001b[0m: list.remove(x): x not in list"
     ]
    }
   ],
   "source": [
    "l.remove(4)"
   ]
  },
  {
   "cell_type": "code",
   "execution_count": 38,
   "id": "ec3456b0-f6d1-4c02-a560-92b86813de50",
   "metadata": {},
   "outputs": [
    {
     "data": {
      "text/plain": [
       "[3, 4, 5]"
      ]
     },
     "execution_count": 38,
     "metadata": {},
     "output_type": "execute_result"
    }
   ],
   "source": [
    "l[-1]"
   ]
  },
  {
   "cell_type": "code",
   "execution_count": 39,
   "id": "ce5ff168-a6ca-42e8-aa77-7e8695355ff4",
   "metadata": {},
   "outputs": [
    {
     "data": {
      "text/plain": [
       "4"
      ]
     },
     "execution_count": 39,
     "metadata": {},
     "output_type": "execute_result"
    }
   ],
   "source": [
    "l[-1][1]"
   ]
  },
  {
   "cell_type": "code",
   "execution_count": 40,
   "id": "07e08002-ed4a-4764-8d35-637106908c1f",
   "metadata": {},
   "outputs": [
    {
     "ename": "NameError",
     "evalue": "name 'L' is not defined",
     "output_type": "error",
     "traceback": [
      "\u001b[0;31m---------------------------------------------------------------------------\u001b[0m",
      "\u001b[0;31mNameError\u001b[0m                                 Traceback (most recent call last)",
      "Cell \u001b[0;32mIn[40], line 1\u001b[0m\n\u001b[0;32m----> 1\u001b[0m \u001b[43mL\u001b[49m\n",
      "\u001b[0;31mNameError\u001b[0m: name 'L' is not defined"
     ]
    }
   ],
   "source": [
    "L"
   ]
  },
  {
   "cell_type": "code",
   "execution_count": null,
   "id": "4c38d0e1-1415-4c98-a168-2037a5395525",
   "metadata": {},
   "outputs": [],
   "source": [
    "l\n"
   ]
  },
  {
   "cell_type": "code",
   "execution_count": 41,
   "id": "365cd7ff-e659-4430-b1c0-a0bca3e8e783",
   "metadata": {},
   "outputs": [
    {
     "data": {
      "text/plain": [
       "[2, 3.4, 'ashish', (5+7j), 'pwskills', [3, 4, 5]]"
      ]
     },
     "execution_count": 41,
     "metadata": {},
     "output_type": "execute_result"
    }
   ],
   "source": [
    "# EXTEND FUN\n",
    "l"
   ]
  },
  {
   "cell_type": "code",
   "execution_count": 42,
   "id": "25e81e05-a0ed-4842-ace0-bb6350e05c1b",
   "metadata": {},
   "outputs": [
    {
     "ename": "TypeError",
     "evalue": "'int' object is not iterable",
     "output_type": "error",
     "traceback": [
      "\u001b[0;31m---------------------------------------------------------------------------\u001b[0m",
      "\u001b[0;31mTypeError\u001b[0m                                 Traceback (most recent call last)",
      "Cell \u001b[0;32mIn[42], line 1\u001b[0m\n\u001b[0;32m----> 1\u001b[0m \u001b[43ml\u001b[49m\u001b[38;5;241;43m.\u001b[39;49m\u001b[43mextend\u001b[49m\u001b[43m(\u001b[49m\u001b[38;5;241;43m4\u001b[39;49m\u001b[43m)\u001b[49m\n",
      "\u001b[0;31mTypeError\u001b[0m: 'int' object is not iterable"
     ]
    }
   ],
   "source": [
    "l.extend(4)"
   ]
  },
  {
   "cell_type": "code",
   "execution_count": 43,
   "id": "82ce92b8-7d6d-4673-8786-a786d195c81e",
   "metadata": {},
   "outputs": [],
   "source": [
    "l.extend(\"ashish\")"
   ]
  },
  {
   "cell_type": "code",
   "execution_count": 44,
   "id": "bbd4909c-2bdf-4b5b-bc53-955051950eaf",
   "metadata": {},
   "outputs": [
    {
     "data": {
      "text/plain": [
       "[2, 3.4, 'ashish', (5+7j), 'pwskills', [3, 4, 5], 'a', 's', 'h', 'i', 's', 'h']"
      ]
     },
     "execution_count": 44,
     "metadata": {},
     "output_type": "execute_result"
    }
   ],
   "source": [
    "l"
   ]
  },
  {
   "cell_type": "code",
   "execution_count": 45,
   "id": "70f1024d-e3e3-4451-b35e-312242a93670",
   "metadata": {},
   "outputs": [],
   "source": [
    "l.extend(\"a\")"
   ]
  },
  {
   "cell_type": "code",
   "execution_count": 46,
   "id": "a9210c06-ebf1-4f04-95ba-a1e3d3a5ebe6",
   "metadata": {},
   "outputs": [
    {
     "data": {
      "text/plain": [
       "[2,\n",
       " 3.4,\n",
       " 'ashish',\n",
       " (5+7j),\n",
       " 'pwskills',\n",
       " [3, 4, 5],\n",
       " 'a',\n",
       " 's',\n",
       " 'h',\n",
       " 'i',\n",
       " 's',\n",
       " 'h',\n",
       " 'a']"
      ]
     },
     "execution_count": 46,
     "metadata": {},
     "output_type": "execute_result"
    }
   ],
   "source": [
    "l"
   ]
  },
  {
   "cell_type": "code",
   "execution_count": 47,
   "id": "bb8ac0cc-a7ec-4f59-a234-dc35a29aa57a",
   "metadata": {},
   "outputs": [],
   "source": [
    "l.extend([3])"
   ]
  },
  {
   "cell_type": "code",
   "execution_count": 48,
   "id": "04a43c4f-1307-465c-93b2-a8e634ba1ebd",
   "metadata": {},
   "outputs": [
    {
     "data": {
      "text/plain": [
       "[2,\n",
       " 3.4,\n",
       " 'ashish',\n",
       " (5+7j),\n",
       " 'pwskills',\n",
       " [3, 4, 5],\n",
       " 'a',\n",
       " 's',\n",
       " 'h',\n",
       " 'i',\n",
       " 's',\n",
       " 'h',\n",
       " 'a',\n",
       " 3]"
      ]
     },
     "execution_count": 48,
     "metadata": {},
     "output_type": "execute_result"
    }
   ],
   "source": [
    "l"
   ]
  },
  {
   "cell_type": "code",
   "execution_count": 49,
   "id": "5e4c3a99-5a2f-4011-9747-87cb8ee56970",
   "metadata": {},
   "outputs": [
    {
     "data": {
      "text/plain": [
       "[2,\n",
       " 3.4,\n",
       " 'ashish',\n",
       " (5+7j),\n",
       " 'pwskills',\n",
       " [3, 4, 5],\n",
       " 'a',\n",
       " 's',\n",
       " 'h',\n",
       " 'i',\n",
       " 's',\n",
       " 'h',\n",
       " 'a',\n",
       " 3]"
      ]
     },
     "execution_count": 49,
     "metadata": {},
     "output_type": "execute_result"
    }
   ],
   "source": [
    "l\n"
   ]
  },
  {
   "cell_type": "code",
   "execution_count": 50,
   "id": "abf27c03-bc32-4753-84cb-1aa38d828847",
   "metadata": {},
   "outputs": [
    {
     "data": {
      "text/plain": [
       "[2,\n",
       " 3.4,\n",
       " 'ashish',\n",
       " (5+7j),\n",
       " 'pwskills',\n",
       " [3, 4, 5],\n",
       " 'a',\n",
       " 's',\n",
       " 'h',\n",
       " 'i',\n",
       " 's',\n",
       " 'h',\n",
       " 'a',\n",
       " 3]"
      ]
     },
     "execution_count": 50,
     "metadata": {},
     "output_type": "execute_result"
    }
   ],
   "source": [
    "l"
   ]
  },
  {
   "cell_type": "code",
   "execution_count": 51,
   "id": "c94b4e3a-ea31-4431-a449-5ac0c7cc511b",
   "metadata": {},
   "outputs": [
    {
     "data": {
      "text/plain": [
       "[3, 4, 5]"
      ]
     },
     "execution_count": 51,
     "metadata": {},
     "output_type": "execute_result"
    }
   ],
   "source": [
    "l1"
   ]
  },
  {
   "cell_type": "code",
   "execution_count": 52,
   "id": "da4a276c-7fe7-4628-b030-b8db15ff4c85",
   "metadata": {},
   "outputs": [],
   "source": [
    "l1.insert(1,\"ashish\")"
   ]
  },
  {
   "cell_type": "code",
   "execution_count": 53,
   "id": "34c94098-ad43-4342-8914-484c17af5e7c",
   "metadata": {},
   "outputs": [
    {
     "data": {
      "text/plain": [
       "[3, 'ashish', 4, 5]"
      ]
     },
     "execution_count": 53,
     "metadata": {},
     "output_type": "execute_result"
    }
   ],
   "source": [
    "l1"
   ]
  },
  {
   "cell_type": "code",
   "execution_count": 54,
   "id": "e7cfb4bc-9c63-4af5-9042-58e41fe05db5",
   "metadata": {},
   "outputs": [],
   "source": [
    "l1.insert(1,[3,4,5])"
   ]
  },
  {
   "cell_type": "code",
   "execution_count": 55,
   "id": "4be1d3aa-1219-4d6c-95f3-9185da159565",
   "metadata": {},
   "outputs": [
    {
     "data": {
      "text/plain": [
       "[3, [3, 4, 5], 'ashish', 4, 5]"
      ]
     },
     "execution_count": 55,
     "metadata": {},
     "output_type": "execute_result"
    }
   ],
   "source": [
    "l1"
   ]
  },
  {
   "cell_type": "code",
   "execution_count": 56,
   "id": "54268657-6467-4914-9af9-cc2b0e602f3d",
   "metadata": {},
   "outputs": [],
   "source": [
    "l1.insert(-1,45)"
   ]
  },
  {
   "cell_type": "code",
   "execution_count": 57,
   "id": "8070c559-7c97-409d-9a4d-162258c84ea7",
   "metadata": {},
   "outputs": [
    {
     "data": {
      "text/plain": [
       "[3, [3, 4, 5], 'ashish', 4, 45, 5]"
      ]
     },
     "execution_count": 57,
     "metadata": {},
     "output_type": "execute_result"
    }
   ],
   "source": [
    "l1"
   ]
  },
  {
   "cell_type": "code",
   "execution_count": 58,
   "id": "721c077c-4bb6-483f-b9d3-d4ffa618e4cf",
   "metadata": {},
   "outputs": [
    {
     "data": {
      "text/plain": [
       "[2,\n",
       " 3.4,\n",
       " 'ashish',\n",
       " (5+7j),\n",
       " 'pwskills',\n",
       " [3, [3, 4, 5], 'ashish', 4, 45, 5],\n",
       " 'a',\n",
       " 's',\n",
       " 'h',\n",
       " 'i',\n",
       " 's',\n",
       " 'h',\n",
       " 'a',\n",
       " 3]"
      ]
     },
     "execution_count": 58,
     "metadata": {},
     "output_type": "execute_result"
    }
   ],
   "source": [
    "l"
   ]
  },
  {
   "cell_type": "code",
   "execution_count": 59,
   "id": "17e3a746-c550-473b-ab80-c268f9addcf5",
   "metadata": {},
   "outputs": [
    {
     "data": {
      "text/plain": [
       "[3, [3, 4, 5], 'ashish', 4, 45, 5]"
      ]
     },
     "execution_count": 59,
     "metadata": {},
     "output_type": "execute_result"
    }
   ],
   "source": [
    "l1"
   ]
  },
  {
   "cell_type": "code",
   "execution_count": 60,
   "id": "5f3b43cc-fc01-4c62-833d-55df11df833e",
   "metadata": {},
   "outputs": [
    {
     "data": {
      "text/plain": [
       "5"
      ]
     },
     "execution_count": 60,
     "metadata": {},
     "output_type": "execute_result"
    }
   ],
   "source": [
    "# goes with the indexes\n",
    "l1.pop()"
   ]
  },
  {
   "cell_type": "code",
   "execution_count": 61,
   "id": "31907c4a-228b-4988-9f65-286c1379a7da",
   "metadata": {},
   "outputs": [
    {
     "data": {
      "text/plain": [
       "[3, [3, 4, 5], 'ashish', 4, 45]"
      ]
     },
     "execution_count": 61,
     "metadata": {},
     "output_type": "execute_result"
    }
   ],
   "source": [
    "l1"
   ]
  },
  {
   "cell_type": "code",
   "execution_count": 62,
   "id": "5c839b7a-8631-448a-83a6-c8adf3b096dc",
   "metadata": {},
   "outputs": [
    {
     "data": {
      "text/plain": [
       "4"
      ]
     },
     "execution_count": 62,
     "metadata": {},
     "output_type": "execute_result"
    }
   ],
   "source": [
    "l1.pop(3)"
   ]
  },
  {
   "cell_type": "code",
   "execution_count": 63,
   "id": "3da8a7e6-5c73-4de1-9cc8-9f032371e1b8",
   "metadata": {},
   "outputs": [
    {
     "data": {
      "text/plain": [
       "[3, [3, 4, 5], 'ashish', 45]"
      ]
     },
     "execution_count": 63,
     "metadata": {},
     "output_type": "execute_result"
    }
   ],
   "source": [
    "l1"
   ]
  },
  {
   "cell_type": "code",
   "execution_count": 65,
   "id": "5667d8c8-5269-4098-9fe0-bcfdfc112441",
   "metadata": {},
   "outputs": [],
   "source": [
    "# goes with the element\n",
    "l1.remove(3)"
   ]
  },
  {
   "cell_type": "code",
   "execution_count": 66,
   "id": "3ebeb9b0-0495-4429-9fd7-69159d434591",
   "metadata": {},
   "outputs": [
    {
     "data": {
      "text/plain": [
       "[[3, 4, 5], 'ashish', 45]"
      ]
     },
     "execution_count": 66,
     "metadata": {},
     "output_type": "execute_result"
    }
   ],
   "source": [
    "l1"
   ]
  },
  {
   "cell_type": "code",
   "execution_count": 67,
   "id": "5bb32b95-65c1-4299-aed2-ba34f6c58658",
   "metadata": {},
   "outputs": [],
   "source": [
    "l1.append(3)"
   ]
  },
  {
   "cell_type": "code",
   "execution_count": 68,
   "id": "62468225-8493-4ce5-8f59-c52074eb8387",
   "metadata": {},
   "outputs": [
    {
     "data": {
      "text/plain": [
       "[[3, 4, 5], 'ashish', 45, 3]"
      ]
     },
     "execution_count": 68,
     "metadata": {},
     "output_type": "execute_result"
    }
   ],
   "source": [
    "l1"
   ]
  },
  {
   "cell_type": "code",
   "execution_count": 69,
   "id": "e8b0547a-59e8-43b2-a453-55c49b29638d",
   "metadata": {},
   "outputs": [
    {
     "data": {
      "text/plain": [
       "[3, 4, 5]"
      ]
     },
     "execution_count": 69,
     "metadata": {},
     "output_type": "execute_result"
    }
   ],
   "source": [
    "l1.pop(0)"
   ]
  },
  {
   "cell_type": "code",
   "execution_count": 70,
   "id": "485dfcd1-ad56-4069-b964-d3309adb1a7a",
   "metadata": {},
   "outputs": [
    {
     "data": {
      "text/plain": [
       "['ashish', 45, 3]"
      ]
     },
     "execution_count": 70,
     "metadata": {},
     "output_type": "execute_result"
    }
   ],
   "source": [
    "l1"
   ]
  },
  {
   "cell_type": "code",
   "execution_count": 71,
   "id": "46874ed2-7fa2-47ed-9b02-79db3db6054b",
   "metadata": {},
   "outputs": [],
   "source": [
    "l1.append([3,5])"
   ]
  },
  {
   "cell_type": "code",
   "execution_count": 72,
   "id": "db792aac-a773-402e-b0fd-bce7fe0156f3",
   "metadata": {},
   "outputs": [
    {
     "data": {
      "text/plain": [
       "['ashish', 45, 3, [3, 5]]"
      ]
     },
     "execution_count": 72,
     "metadata": {},
     "output_type": "execute_result"
    }
   ],
   "source": [
    "l1\n"
   ]
  },
  {
   "cell_type": "code",
   "execution_count": 73,
   "id": "626835a4-a06b-4cc0-a608-bcb11acdbb02",
   "metadata": {},
   "outputs": [],
   "source": [
    "l1[3].remove(3)"
   ]
  },
  {
   "cell_type": "code",
   "execution_count": 74,
   "id": "88282349-c92d-4d08-82d5-f5015767808b",
   "metadata": {},
   "outputs": [
    {
     "data": {
      "text/plain": [
       "1"
      ]
     },
     "execution_count": 74,
     "metadata": {},
     "output_type": "execute_result"
    }
   ],
   "source": [
    "1"
   ]
  },
  {
   "cell_type": "code",
   "execution_count": 75,
   "id": "8077e98f-304a-493f-94f6-85353d30f620",
   "metadata": {},
   "outputs": [
    {
     "data": {
      "text/plain": [
       "['ashish', 45, 3, [5]]"
      ]
     },
     "execution_count": 75,
     "metadata": {},
     "output_type": "execute_result"
    }
   ],
   "source": [
    "l1"
   ]
  },
  {
   "cell_type": "code",
   "execution_count": 76,
   "id": "483e08ac-152c-47f0-94ae-f6e63d3bc3c3",
   "metadata": {},
   "outputs": [
    {
     "ename": "SyntaxError",
     "evalue": "invalid syntax (2914054022.py, line 1)",
     "output_type": "error",
     "traceback": [
      "\u001b[0;36m  Cell \u001b[0;32mIn[76], line 1\u001b[0;36m\u001b[0m\n\u001b[0;31m    l1[0].remove(0:2)\u001b[0m\n\u001b[0m                  ^\u001b[0m\n\u001b[0;31mSyntaxError\u001b[0m\u001b[0;31m:\u001b[0m invalid syntax\n"
     ]
    }
   ],
   "source": [
    "l1[0].remove(0:2)"
   ]
  },
  {
   "cell_type": "code",
   "execution_count": 77,
   "id": "a2c78793-6e70-496e-bcc9-e3ac85b50127",
   "metadata": {},
   "outputs": [],
   "source": [
    "# original list manipulated\n",
    "l1.reverse()"
   ]
  },
  {
   "cell_type": "code",
   "execution_count": 78,
   "id": "0c6441de-d4ea-492b-974c-13bf7030bb14",
   "metadata": {},
   "outputs": [
    {
     "data": {
      "text/plain": [
       "[[5], 3, 45, 'ashish']"
      ]
     },
     "execution_count": 78,
     "metadata": {},
     "output_type": "execute_result"
    }
   ],
   "source": [
    "l1"
   ]
  },
  {
   "cell_type": "code",
   "execution_count": 79,
   "id": "de4497dd-d536-4da5-b6e1-324f19027012",
   "metadata": {},
   "outputs": [
    {
     "data": {
      "text/plain": [
       "['ashish', 45, 3, [5]]"
      ]
     },
     "execution_count": 79,
     "metadata": {},
     "output_type": "execute_result"
    }
   ],
   "source": [
    "# temporary reverse\n",
    "l1[::-1]"
   ]
  },
  {
   "cell_type": "code",
   "execution_count": 80,
   "id": "2b12443a-dd9f-4a29-b2a6-2ed647c083a7",
   "metadata": {},
   "outputs": [
    {
     "data": {
      "text/plain": [
       "[[5], 3, 45, 'ashish']"
      ]
     },
     "execution_count": 80,
     "metadata": {},
     "output_type": "execute_result"
    }
   ],
   "source": [
    "l1"
   ]
  },
  {
   "cell_type": "code",
   "execution_count": null,
   "id": "805159ac-42d6-4b1d-9b99-22276156b345",
   "metadata": {},
   "outputs": [],
   "source": [
    "<!-- l1=l1[::-1] is equivalent to l1.reverse() -->"
   ]
  },
  {
   "cell_type": "code",
   "execution_count": 81,
   "id": "e7e376d4-1ad6-4559-b9c2-cb60d4b4b2e1",
   "metadata": {},
   "outputs": [
    {
     "data": {
      "text/plain": [
       "[[5], 3, 45, 'ashish']"
      ]
     },
     "execution_count": 81,
     "metadata": {},
     "output_type": "execute_result"
    }
   ],
   "source": [
    "l1"
   ]
  },
  {
   "cell_type": "code",
   "execution_count": 82,
   "id": "461de825-faa1-4445-842c-86578d88dc04",
   "metadata": {},
   "outputs": [],
   "source": [
    "l2=[3,4,8,5,2,1]"
   ]
  },
  {
   "cell_type": "code",
   "execution_count": 83,
   "id": "170b768b-1e34-45a7-8758-e2e719f4f17a",
   "metadata": {},
   "outputs": [],
   "source": [
    "l2.sort()"
   ]
  },
  {
   "cell_type": "code",
   "execution_count": 84,
   "id": "6a0a9568-c12f-4883-bc66-f0bfbf43dd9c",
   "metadata": {},
   "outputs": [
    {
     "data": {
      "text/plain": [
       "[1, 2, 3, 4, 5, 8]"
      ]
     },
     "execution_count": 84,
     "metadata": {},
     "output_type": "execute_result"
    }
   ],
   "source": [
    "l2"
   ]
  },
  {
   "cell_type": "code",
   "execution_count": 85,
   "id": "0d5f4354-6136-4af3-96a8-2f74bca1a81d",
   "metadata": {},
   "outputs": [],
   "source": [
    "l3=[34,\"ashish\",45.2]\n"
   ]
  },
  {
   "cell_type": "code",
   "execution_count": 86,
   "id": "9c8055ff-0278-414b-8892-ea4695c86294",
   "metadata": {},
   "outputs": [
    {
     "ename": "TypeError",
     "evalue": "'<' not supported between instances of 'str' and 'int'",
     "output_type": "error",
     "traceback": [
      "\u001b[0;31m---------------------------------------------------------------------------\u001b[0m",
      "\u001b[0;31mTypeError\u001b[0m                                 Traceback (most recent call last)",
      "Cell \u001b[0;32mIn[86], line 1\u001b[0m\n\u001b[0;32m----> 1\u001b[0m \u001b[43ml3\u001b[49m\u001b[38;5;241;43m.\u001b[39;49m\u001b[43msort\u001b[49m\u001b[43m(\u001b[49m\u001b[43m)\u001b[49m\n",
      "\u001b[0;31mTypeError\u001b[0m: '<' not supported between instances of 'str' and 'int'"
     ]
    }
   ],
   "source": [
    "l3.sort()"
   ]
  },
  {
   "cell_type": "code",
   "execution_count": 87,
   "id": "32a321a5-1a4b-4071-b780-22bab10f6877",
   "metadata": {},
   "outputs": [],
   "source": [
    "l4=[\"kumar\",\"yogesh\",\"mohit\",\"ashish\"]"
   ]
  },
  {
   "cell_type": "code",
   "execution_count": 88,
   "id": "de239b61-0ffd-42eb-a149-5f6af7ba6407",
   "metadata": {},
   "outputs": [],
   "source": [
    "l4.sort()"
   ]
  },
  {
   "cell_type": "code",
   "execution_count": 89,
   "id": "7ac53cf4-d73d-478b-81f1-5c30d04ffac7",
   "metadata": {},
   "outputs": [
    {
     "data": {
      "text/plain": [
       "['ashish', 'kumar', 'mohit', 'yogesh']"
      ]
     },
     "execution_count": 89,
     "metadata": {},
     "output_type": "execute_result"
    }
   ],
   "source": [
    "l4"
   ]
  },
  {
   "cell_type": "code",
   "execution_count": 90,
   "id": "f8593f5f-55d8-452a-971b-87d1485e22a1",
   "metadata": {},
   "outputs": [],
   "source": [
    "l4.sort(reverse=True)"
   ]
  },
  {
   "cell_type": "code",
   "execution_count": 91,
   "id": "3ac5ce75-0f24-42de-a561-585fd9571d52",
   "metadata": {},
   "outputs": [
    {
     "data": {
      "text/plain": [
       "['yogesh', 'mohit', 'kumar', 'ashish']"
      ]
     },
     "execution_count": 91,
     "metadata": {},
     "output_type": "execute_result"
    }
   ],
   "source": [
    "l4"
   ]
  },
  {
   "cell_type": "code",
   "execution_count": 92,
   "id": "811e14a5-b237-4aef-9a5c-fb0271bf286a",
   "metadata": {},
   "outputs": [
    {
     "data": {
      "text/plain": [
       "1"
      ]
     },
     "execution_count": 92,
     "metadata": {},
     "output_type": "execute_result"
    }
   ],
   "source": [
    "l4.index(\"mohit\")"
   ]
  },
  {
   "cell_type": "code",
   "execution_count": 95,
   "id": "7250ecde-db80-4470-bd55-a0894237fc07",
   "metadata": {},
   "outputs": [
    {
     "data": {
      "text/plain": [
       "1"
      ]
     },
     "execution_count": 95,
     "metadata": {},
     "output_type": "execute_result"
    }
   ],
   "source": [
    "l4.count(\"ashish\")"
   ]
  },
  {
   "cell_type": "code",
   "execution_count": 96,
   "id": "42e1aead-86a3-4f65-8921-0cb53017f9e5",
   "metadata": {},
   "outputs": [],
   "source": [
    "a= \"ashish\""
   ]
  },
  {
   "cell_type": "code",
   "execution_count": 97,
   "id": "ece9d92a-0b20-4ca0-836c-1f9ecd9494df",
   "metadata": {},
   "outputs": [],
   "source": [
    "l5=[3,4,5,6]"
   ]
  },
  {
   "cell_type": "code",
   "execution_count": 99,
   "id": "9acfb085-d4c1-4b58-84ea-3d4471a8ecb8",
   "metadata": {},
   "outputs": [
    {
     "ename": "TypeError",
     "evalue": "'str' object does not support item assignment",
     "output_type": "error",
     "traceback": [
      "\u001b[0;31m---------------------------------------------------------------------------\u001b[0m",
      "\u001b[0;31mTypeError\u001b[0m                                 Traceback (most recent call last)",
      "Cell \u001b[0;32mIn[99], line 1\u001b[0m\n\u001b[0;32m----> 1\u001b[0m \u001b[43ma\u001b[49m\u001b[43m[\u001b[49m\u001b[38;5;241;43m0\u001b[39;49m\u001b[43m]\u001b[49m\u001b[38;5;241m=\u001b[39m\u001b[38;5;124m\"\u001b[39m\u001b[38;5;124mb\u001b[39m\u001b[38;5;124m\"\u001b[39m\n",
      "\u001b[0;31mTypeError\u001b[0m: 'str' object does not support item assignment"
     ]
    }
   ],
   "source": [
    "a[0]=\"b\""
   ]
  },
  {
   "cell_type": "code",
   "execution_count": 100,
   "id": "29ad8b9f-e531-4bdf-a6c0-c763ee77c437",
   "metadata": {},
   "outputs": [],
   "source": [
    "a=\"mohit\""
   ]
  },
  {
   "cell_type": "code",
   "execution_count": 101,
   "id": "2f165e76-86ed-4c3f-b402-8039776d8811",
   "metadata": {},
   "outputs": [
    {
     "data": {
      "text/plain": [
       "'mohit'"
      ]
     },
     "execution_count": 101,
     "metadata": {},
     "output_type": "execute_result"
    }
   ],
   "source": [
    "a"
   ]
  },
  {
   "cell_type": "code",
   "execution_count": 104,
   "id": "b15a6de9-1dd3-4731-97e1-2263f6057234",
   "metadata": {},
   "outputs": [],
   "source": [
    "l5[0]=30"
   ]
  },
  {
   "cell_type": "markdown",
   "id": "001853cc-ebfb-4b31-be6b-572ce9095042",
   "metadata": {},
   "source": [
    "##### l5"
   ]
  },
  {
   "cell_type": "code",
   "execution_count": 105,
   "id": "0e75d2d2-f4c2-492d-acbf-59e6b5864f5e",
   "metadata": {},
   "outputs": [
    {
     "data": {
      "text/plain": [
       "[30, 4, 5, 6]"
      ]
     },
     "execution_count": 105,
     "metadata": {},
     "output_type": "execute_result"
    }
   ],
   "source": [
    "l5"
   ]
  },
  {
   "cell_type": "code",
   "execution_count": null,
   "id": "3b322794-b4b2-4dc8-9c96-8508eb568d66",
   "metadata": {},
   "outputs": [],
   "source": [
    "# string is immutable wheras list is mutable"
   ]
  },
  {
   "cell_type": "code",
   "execution_count": 107,
   "id": "ad38e182-0f29-4fb8-bba2-cd432740b8e2",
   "metadata": {},
   "outputs": [
    {
     "data": {
      "text/plain": [
       "'nohit'"
      ]
     },
     "execution_count": 107,
     "metadata": {},
     "output_type": "execute_result"
    }
   ],
   "source": [
    "a.replace('m','n')"
   ]
  },
  {
   "cell_type": "code",
   "execution_count": 108,
   "id": "f605f31c-28c5-4952-88f7-ff488911ec6b",
   "metadata": {},
   "outputs": [
    {
     "data": {
      "text/plain": [
       "'mohit'"
      ]
     },
     "execution_count": 108,
     "metadata": {},
     "output_type": "execute_result"
    }
   ],
   "source": [
    "a"
   ]
  },
  {
   "cell_type": "code",
   "execution_count": null,
   "id": "925f6b99-6024-45c9-89ea-43d6b6c3a851",
   "metadata": {},
   "outputs": [],
   "source": []
  },
  {
   "cell_type": "code",
   "execution_count": null,
   "id": "6476b0e2-9bbd-48a1-bf59-b87f5f2a45b1",
   "metadata": {},
   "outputs": [],
   "source": [
    "# TUPLE.....imutable"
   ]
  },
  {
   "cell_type": "code",
   "execution_count": null,
   "id": "c26753a6-3090-4152-bcb1-830c90ee2e7f",
   "metadata": {},
   "outputs": [],
   "source": []
  },
  {
   "cell_type": "code",
   "execution_count": 109,
   "id": "51dcb5ae-7b96-41d0-ada6-a8566db8f191",
   "metadata": {},
   "outputs": [],
   "source": [
    "t=(2,3,4,5,\"ashish\",True,4+7j)"
   ]
  },
  {
   "cell_type": "code",
   "execution_count": 110,
   "id": "482f9087-fc88-471e-a5cf-a5bc2b5ea9a3",
   "metadata": {},
   "outputs": [
    {
     "data": {
      "text/plain": [
       "(2, 3, 4, 5, 'ashish', True, (4+7j))"
      ]
     },
     "execution_count": 110,
     "metadata": {},
     "output_type": "execute_result"
    }
   ],
   "source": [
    "t"
   ]
  },
  {
   "cell_type": "code",
   "execution_count": 111,
   "id": "4bdee4b4-f496-4001-96a2-d341f76bff6d",
   "metadata": {},
   "outputs": [
    {
     "data": {
      "text/plain": [
       "tuple"
      ]
     },
     "execution_count": 111,
     "metadata": {},
     "output_type": "execute_result"
    }
   ],
   "source": [
    "\n",
    "type(t)"
   ]
  },
  {
   "cell_type": "code",
   "execution_count": 112,
   "id": "ef3a3f79-f445-4a17-88b1-cd08324c5403",
   "metadata": {},
   "outputs": [
    {
     "data": {
      "text/plain": [
       "7"
      ]
     },
     "execution_count": 112,
     "metadata": {},
     "output_type": "execute_result"
    }
   ],
   "source": [
    "len(t)\n"
   ]
  },
  {
   "cell_type": "code",
   "execution_count": 113,
   "id": "4067020d-6367-4b4b-bdc4-aee9ad7fefb7",
   "metadata": {},
   "outputs": [
    {
     "data": {
      "text/plain": [
       "2"
      ]
     },
     "execution_count": 113,
     "metadata": {},
     "output_type": "execute_result"
    }
   ],
   "source": [
    "t[0]"
   ]
  },
  {
   "cell_type": "code",
   "execution_count": 114,
   "id": "df30aee2-5473-4cca-97b4-252a758ce96b",
   "metadata": {},
   "outputs": [
    {
     "data": {
      "text/plain": [
       "(4+7j)"
      ]
     },
     "execution_count": 114,
     "metadata": {},
     "output_type": "execute_result"
    }
   ],
   "source": [
    "t[-1]"
   ]
  },
  {
   "cell_type": "code",
   "execution_count": 115,
   "id": "de5b34a2-d495-438e-bf67-fc8fdc5d25ef",
   "metadata": {},
   "outputs": [
    {
     "data": {
      "text/plain": [
       "((4+7j), True, 'ashish', 5, 4, 3, 2)"
      ]
     },
     "execution_count": 115,
     "metadata": {},
     "output_type": "execute_result"
    }
   ],
   "source": [
    "t[::-1]"
   ]
  },
  {
   "cell_type": "code",
   "execution_count": 116,
   "id": "e65247bf-637e-4dda-8b16-7d31f06ec581",
   "metadata": {},
   "outputs": [
    {
     "data": {
      "text/plain": [
       "['yogesh', 'mohit', 'kumar', 'ashish']"
      ]
     },
     "execution_count": 116,
     "metadata": {},
     "output_type": "execute_result"
    }
   ],
   "source": [
    "l4"
   ]
  },
  {
   "cell_type": "code",
   "execution_count": 117,
   "id": "1896f5aa-1399-4fd9-8459-48d21cb8e22e",
   "metadata": {},
   "outputs": [
    {
     "data": {
      "text/plain": [
       "'yogesh'"
      ]
     },
     "execution_count": 117,
     "metadata": {},
     "output_type": "execute_result"
    }
   ],
   "source": [
    "l4[0]"
   ]
  },
  {
   "cell_type": "code",
   "execution_count": 118,
   "id": "dc056649-3832-433e-b689-2cf90ce90ec6",
   "metadata": {},
   "outputs": [],
   "source": [
    "l4[0]=2345\n"
   ]
  },
  {
   "cell_type": "code",
   "execution_count": 119,
   "id": "2326bf3a-d267-4c7b-a0d5-40042b03f1ea",
   "metadata": {},
   "outputs": [
    {
     "data": {
      "text/plain": [
       "[2345, 'mohit', 'kumar', 'ashish']"
      ]
     },
     "execution_count": 119,
     "metadata": {},
     "output_type": "execute_result"
    }
   ],
   "source": [
    "l4"
   ]
  },
  {
   "cell_type": "code",
   "execution_count": 120,
   "id": "3e95cbfa-1a31-4ed7-9877-f407fb0ff978",
   "metadata": {},
   "outputs": [
    {
     "data": {
      "text/plain": [
       "(2, 3, 4, 5, 'ashish', True, (4+7j))"
      ]
     },
     "execution_count": 120,
     "metadata": {},
     "output_type": "execute_result"
    }
   ],
   "source": [
    "t"
   ]
  },
  {
   "cell_type": "code",
   "execution_count": 121,
   "id": "969a704e-22fb-48e0-9013-55375ee357a3",
   "metadata": {},
   "outputs": [
    {
     "data": {
      "text/plain": [
       "2"
      ]
     },
     "execution_count": 121,
     "metadata": {},
     "output_type": "execute_result"
    }
   ],
   "source": [
    "t[0]"
   ]
  },
  {
   "cell_type": "code",
   "execution_count": 122,
   "id": "76117aad-004f-47fb-b1fa-927fd49c5056",
   "metadata": {},
   "outputs": [
    {
     "ename": "TypeError",
     "evalue": "'tuple' object does not support item assignment",
     "output_type": "error",
     "traceback": [
      "\u001b[0;31m---------------------------------------------------------------------------\u001b[0m",
      "\u001b[0;31mTypeError\u001b[0m                                 Traceback (most recent call last)",
      "Cell \u001b[0;32mIn[122], line 1\u001b[0m\n\u001b[0;32m----> 1\u001b[0m \u001b[43mt\u001b[49m\u001b[43m[\u001b[49m\u001b[38;5;241;43m0\u001b[39;49m\u001b[43m]\u001b[49m\u001b[38;5;241m=\u001b[39m\u001b[38;5;124m\"\u001b[39m\u001b[38;5;124mab\u001b[39m\u001b[38;5;124m\"\u001b[39m\n",
      "\u001b[0;31mTypeError\u001b[0m: 'tuple' object does not support item assignment"
     ]
    }
   ],
   "source": [
    "t[0]=\"ab\""
   ]
  },
  {
   "cell_type": "code",
   "execution_count": 124,
   "id": "e62976ff-def4-4e0e-90d2-71add5eb6765",
   "metadata": {},
   "outputs": [
    {
     "data": {
      "text/plain": [
       "((4+7j), True, 'ashish', 5, 4, 3, 2)"
      ]
     },
     "execution_count": 124,
     "metadata": {},
     "output_type": "execute_result"
    }
   ],
   "source": [
    "t[::-1]"
   ]
  },
  {
   "cell_type": "code",
   "execution_count": 125,
   "id": "8f0cfd3e-0fbd-4bac-a3bd-9dfebd5447b8",
   "metadata": {},
   "outputs": [
    {
     "data": {
      "text/plain": [
       "1"
      ]
     },
     "execution_count": 125,
     "metadata": {},
     "output_type": "execute_result"
    }
   ],
   "source": [
    "t.count(4)"
   ]
  },
  {
   "cell_type": "code",
   "execution_count": 128,
   "id": "718118c8-517b-43bb-82db-6f62fd755420",
   "metadata": {},
   "outputs": [
    {
     "data": {
      "text/plain": [
       "5"
      ]
     },
     "execution_count": 128,
     "metadata": {},
     "output_type": "execute_result"
    }
   ],
   "source": [
    "t.index(True)"
   ]
  },
  {
   "cell_type": "code",
   "execution_count": null,
   "id": "8d6ee775-8d87-45ca-9ab8-b8e39f234c4a",
   "metadata": {},
   "outputs": [],
   "source": []
  },
  {
   "cell_type": "code",
   "execution_count": null,
   "id": "f2d7e5a2-934e-435c-8148-0bd50a19af79",
   "metadata": {},
   "outputs": [],
   "source": [
    "# SET.......in set there is hashing no indexing"
   ]
  },
  {
   "cell_type": "code",
   "execution_count": null,
   "id": "716b1af4-98b5-4a5d-947d-19ff26cb8b6d",
   "metadata": {},
   "outputs": [],
   "source": []
  },
  {
   "cell_type": "code",
   "execution_count": 129,
   "id": "62ed278a-d57b-4b48-8233-5bdd9a0c55c9",
   "metadata": {},
   "outputs": [],
   "source": [
    "s1={}"
   ]
  },
  {
   "cell_type": "code",
   "execution_count": 130,
   "id": "74060f8a-f648-4d57-8cdf-a8b9b4f09d66",
   "metadata": {},
   "outputs": [
    {
     "data": {
      "text/plain": [
       "dict"
      ]
     },
     "execution_count": 130,
     "metadata": {},
     "output_type": "execute_result"
    }
   ],
   "source": [
    "type(s1)"
   ]
  },
  {
   "cell_type": "code",
   "execution_count": 131,
   "id": "d0947c90-c778-4674-b6f1-cbd82a29011b",
   "metadata": {},
   "outputs": [],
   "source": [
    "s2={2,3,4,55,6}"
   ]
  },
  {
   "cell_type": "code",
   "execution_count": 132,
   "id": "3e02ff08-37d9-41e5-a184-8e93e1666507",
   "metadata": {},
   "outputs": [
    {
     "data": {
      "text/plain": [
       "set"
      ]
     },
     "execution_count": 132,
     "metadata": {},
     "output_type": "execute_result"
    }
   ],
   "source": [
    "type(s2)"
   ]
  },
  {
   "cell_type": "code",
   "execution_count": 134,
   "id": "144ee523-b5c5-42ea-8c19-9de99ce9a1d7",
   "metadata": {},
   "outputs": [
    {
     "ename": "TypeError",
     "evalue": "unhashable type: 'list'",
     "output_type": "error",
     "traceback": [
      "\u001b[0;31m---------------------------------------------------------------------------\u001b[0m",
      "\u001b[0;31mTypeError\u001b[0m                                 Traceback (most recent call last)",
      "Cell \u001b[0;32mIn[134], line 1\u001b[0m\n\u001b[0;32m----> 1\u001b[0m s3\u001b[38;5;241m=\u001b[39m{\u001b[38;5;241m323\u001b[39m,\u001b[38;5;241m343\u001b[39m,\u001b[38;5;241m343\u001b[39m,\u001b[38;5;124m\"\u001b[39m\u001b[38;5;124mashish\u001b[39m\u001b[38;5;124m\"\u001b[39m,\u001b[38;5;241m3\u001b[39m\u001b[38;5;241m+\u001b[39m\u001b[38;5;241m4\u001b[39mj,[\u001b[38;5;241m2\u001b[39m,\u001b[38;5;241m3\u001b[39m,\u001b[38;5;241m4\u001b[39m]}\n",
      "\u001b[0;31mTypeError\u001b[0m: unhashable type: 'list'"
     ]
    }
   ],
   "source": [
    "s3={323,343,343,\"ashish\",3+4j,[2,3,4]}"
   ]
  },
  {
   "cell_type": "code",
   "execution_count": 135,
   "id": "090b9c60-38c0-45d1-b57d-07fb991152e5",
   "metadata": {},
   "outputs": [],
   "source": [
    "s3={323,343,343,\"ashish\",3+4j,(2,3,4)}"
   ]
  },
  {
   "cell_type": "code",
   "execution_count": 136,
   "id": "bea66705-6706-49f6-a13a-cff7a308224a",
   "metadata": {},
   "outputs": [
    {
     "data": {
      "text/plain": [
       "{(2, 3, 4), (3+4j), 323, 343, 'ashish'}"
      ]
     },
     "execution_count": 136,
     "metadata": {},
     "output_type": "execute_result"
    }
   ],
   "source": [
    "s3"
   ]
  },
  {
   "cell_type": "code",
   "execution_count": 139,
   "id": "18f8fb73-fe23-40a5-8de2-12b072bf07cb",
   "metadata": {},
   "outputs": [],
   "source": [
    "s4={2,45,6,445,6,45,3,3,55,3,6,1,2,1,34,\"Ashish\",\"ashish\"}"
   ]
  },
  {
   "cell_type": "code",
   "execution_count": 140,
   "id": "ded3670b-43cb-4f20-a960-d23a80ea1f9f",
   "metadata": {},
   "outputs": [
    {
     "data": {
      "text/plain": [
       "{1, 2, 3, 34, 445, 45, 55, 6, 'Ashish', 'ashish'}"
      ]
     },
     "execution_count": 140,
     "metadata": {},
     "output_type": "execute_result"
    }
   ],
   "source": [
    "s4"
   ]
  },
  {
   "cell_type": "code",
   "execution_count": 141,
   "id": "afa35b05-7797-4873-b8ad-6c09160b1746",
   "metadata": {},
   "outputs": [],
   "source": [
    "l6=[2,45,6,445,6,45,3,3,55,3,6,1,2,1,34,\"Ashish\",\"ashish\"]"
   ]
  },
  {
   "cell_type": "code",
   "execution_count": 142,
   "id": "f2f48e46-1be2-4477-aa61-f819fba1fde1",
   "metadata": {},
   "outputs": [
    {
     "data": {
      "text/plain": [
       "{1, 2, 3, 34, 445, 45, 55, 6, 'Ashish', 'ashish'}"
      ]
     },
     "execution_count": 142,
     "metadata": {},
     "output_type": "execute_result"
    }
   ],
   "source": [
    "set(l6)"
   ]
  },
  {
   "cell_type": "code",
   "execution_count": 143,
   "id": "3adec3f6-19eb-4727-8e00-134797a015bb",
   "metadata": {},
   "outputs": [],
   "source": [
    "l6=list(set(l6))"
   ]
  },
  {
   "cell_type": "code",
   "execution_count": 144,
   "id": "60220e5e-d164-416c-85c8-f80460d58e7b",
   "metadata": {},
   "outputs": [
    {
     "data": {
      "text/plain": [
       "[1, 2, 3, 34, 6, 45, 'ashish', 55, 'Ashish', 445]"
      ]
     },
     "execution_count": 144,
     "metadata": {},
     "output_type": "execute_result"
    }
   ],
   "source": [
    "l6"
   ]
  },
  {
   "cell_type": "code",
   "execution_count": 145,
   "id": "9ecdef00-1258-4a31-a577-b5d03935bef5",
   "metadata": {},
   "outputs": [],
   "source": [
    "s5={23,43,45,36,45,65,67,\"ab\"}"
   ]
  },
  {
   "cell_type": "code",
   "execution_count": 146,
   "id": "783d1f47-8b8a-49e1-b377-962873911775",
   "metadata": {},
   "outputs": [
    {
     "data": {
      "text/plain": [
       "{23, 36, 43, 45, 65, 67, 'ab'}"
      ]
     },
     "execution_count": 146,
     "metadata": {},
     "output_type": "execute_result"
    }
   ],
   "source": [
    "s5"
   ]
  },
  {
   "cell_type": "code",
   "execution_count": 147,
   "id": "cf39008b-eb36-4c9d-9353-e1e5c3cbbb85",
   "metadata": {},
   "outputs": [
    {
     "ename": "TypeError",
     "evalue": "'set' object is not subscriptable",
     "output_type": "error",
     "traceback": [
      "\u001b[0;31m---------------------------------------------------------------------------\u001b[0m",
      "\u001b[0;31mTypeError\u001b[0m                                 Traceback (most recent call last)",
      "Cell \u001b[0;32mIn[147], line 1\u001b[0m\n\u001b[0;32m----> 1\u001b[0m \u001b[43ms5\u001b[49m\u001b[43m[\u001b[49m\u001b[38;5;241;43m0\u001b[39;49m\u001b[43m]\u001b[49m\n",
      "\u001b[0;31mTypeError\u001b[0m: 'set' object is not subscriptable"
     ]
    }
   ],
   "source": [
    "s5[0]"
   ]
  },
  {
   "cell_type": "code",
   "execution_count": 149,
   "id": "e3fd2d4b-c1ff-4026-8ea3-698516232364",
   "metadata": {},
   "outputs": [
    {
     "ename": "TypeError",
     "evalue": "'set' object is not subscriptable",
     "output_type": "error",
     "traceback": [
      "\u001b[0;31m---------------------------------------------------------------------------\u001b[0m",
      "\u001b[0;31mTypeError\u001b[0m                                 Traceback (most recent call last)",
      "Cell \u001b[0;32mIn[149], line 1\u001b[0m\n\u001b[0;32m----> 1\u001b[0m \u001b[43ms5\u001b[49m\u001b[43m[\u001b[49m\u001b[43m:\u001b[49m\u001b[43m:\u001b[49m\u001b[38;5;241;43m-\u001b[39;49m\u001b[38;5;241;43m1\u001b[39;49m\u001b[43m]\u001b[49m\n",
      "\u001b[0;31mTypeError\u001b[0m: 'set' object is not subscriptable"
     ]
    }
   ],
   "source": [
    "s5[::-1]"
   ]
  },
  {
   "cell_type": "code",
   "execution_count": 150,
   "id": "013b4284-b48e-48e5-b32e-2d2b1baa7407",
   "metadata": {},
   "outputs": [
    {
     "data": {
      "text/plain": [
       "{23, 36, 43, 45, 65, 67, 'ab'}"
      ]
     },
     "execution_count": 150,
     "metadata": {},
     "output_type": "execute_result"
    }
   ],
   "source": [
    "s5"
   ]
  },
  {
   "cell_type": "code",
   "execution_count": 151,
   "id": "2897ca60-c6a0-48ed-befc-af6c6b508313",
   "metadata": {},
   "outputs": [],
   "source": [
    "s5.add(4)"
   ]
  },
  {
   "cell_type": "code",
   "execution_count": 152,
   "id": "e302a65b-0b82-4d66-8777-675507ca6bab",
   "metadata": {},
   "outputs": [
    {
     "data": {
      "text/plain": [
       "{23, 36, 4, 43, 45, 65, 67, 'ab'}"
      ]
     },
     "execution_count": 152,
     "metadata": {},
     "output_type": "execute_result"
    }
   ],
   "source": [
    "s5"
   ]
  },
  {
   "cell_type": "code",
   "execution_count": 153,
   "id": "6bbffa37-82e7-47b0-b7fc-45c1b2ba9097",
   "metadata": {},
   "outputs": [],
   "source": [
    "s5.remove(43)"
   ]
  },
  {
   "cell_type": "code",
   "execution_count": 154,
   "id": "8a2e4334-7258-4ddd-8dad-ac9762565df6",
   "metadata": {},
   "outputs": [
    {
     "data": {
      "text/plain": [
       "{23, 36, 4, 45, 65, 67, 'ab'}"
      ]
     },
     "execution_count": 154,
     "metadata": {},
     "output_type": "execute_result"
    }
   ],
   "source": [
    "s5"
   ]
  },
  {
   "cell_type": "code",
   "execution_count": null,
   "id": "03031a2a-1623-4f7c-bcd8-0d77a60c9f16",
   "metadata": {},
   "outputs": [],
   "source": []
  }
 ],
 "metadata": {
  "kernelspec": {
   "display_name": "Python 3 (ipykernel)",
   "language": "python",
   "name": "python3"
  },
  "language_info": {
   "codemirror_mode": {
    "name": "ipython",
    "version": 3
   },
   "file_extension": ".py",
   "mimetype": "text/x-python",
   "name": "python",
   "nbconvert_exporter": "python",
   "pygments_lexer": "ipython3",
   "version": "3.10.8"
  }
 },
 "nbformat": 4,
 "nbformat_minor": 5
}
