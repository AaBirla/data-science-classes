{
 "cells": [
  {
   "cell_type": "code",
   "execution_count": 3,
   "id": "4674c578-d258-41bb-93f2-22088de4d4f4",
   "metadata": {},
   "outputs": [],
   "source": [
    "# loop"
   ]
  },
  {
   "cell_type": "code",
   "execution_count": 4,
   "id": "a40e372a-67ee-471b-91af-f8620ccfe097",
   "metadata": {},
   "outputs": [],
   "source": [
    "l=[1,2,3,4,5]\n"
   ]
  },
  {
   "cell_type": "code",
   "execution_count": 5,
   "id": "7ac02ca6-a87f-4c72-b24c-cce2a448a7d6",
   "metadata": {},
   "outputs": [
    {
     "name": "stdout",
     "output_type": "stream",
     "text": [
      "1 <class 'int'>\n",
      "2 <class 'int'>\n",
      "3 <class 'int'>\n",
      "4 <class 'int'>\n",
      "5 <class 'int'>\n"
     ]
    }
   ],
   "source": [
    "for i in l :\n",
    "    print(i,type(i))"
   ]
  },
  {
   "cell_type": "code",
   "execution_count": 6,
   "id": "6b78363e-6a65-43b6-8064-955ffdfa74ef",
   "metadata": {},
   "outputs": [],
   "source": [
    "l1=[\"ashish\",\"mohit\",\"fuggi\",\"goli\"]"
   ]
  },
  {
   "cell_type": "code",
   "execution_count": 7,
   "id": "cc667950-edca-47a6-8987-f2201d01a5ae",
   "metadata": {},
   "outputs": [
    {
     "name": "stdout",
     "output_type": "stream",
     "text": [
      "ashish\n",
      "mohit\n",
      "fuggi\n",
      "goli\n"
     ]
    }
   ],
   "source": [
    "for i in l1:\n",
    "    print(i)"
   ]
  },
  {
   "cell_type": "code",
   "execution_count": 8,
   "id": "50f41b85-5bf7-4974-95be-486015ad6d7b",
   "metadata": {},
   "outputs": [
    {
     "data": {
      "text/plain": [
       "['ashish', 'mohit', 'fuggi', 'goli']"
      ]
     },
     "execution_count": 8,
     "metadata": {},
     "output_type": "execute_result"
    }
   ],
   "source": [
    "l1"
   ]
  },
  {
   "cell_type": "code",
   "execution_count": 9,
   "id": "e4093bd6-6f14-4033-ac78-11d9b66443d0",
   "metadata": {},
   "outputs": [
    {
     "name": "stdout",
     "output_type": "stream",
     "text": [
      "ashish\n",
      "mohit\n",
      "fuggi\n",
      "goli\n",
      "if for loop is able to complete itself then only else will execute\n"
     ]
    }
   ],
   "source": [
    "for i in l1:\n",
    "    print(i)\n",
    "else :\n",
    "    print(\"if for loop is able to complete itself then only else will execute\")\n",
    "    "
   ]
  },
  {
   "cell_type": "code",
   "execution_count": 10,
   "id": "c578aeff-9eed-45e7-8faf-95fd39c09050",
   "metadata": {},
   "outputs": [
    {
     "data": {
      "text/plain": [
       "['ashish', 'mohit', 'fuggi', 'goli']"
      ]
     },
     "execution_count": 10,
     "metadata": {},
     "output_type": "execute_result"
    }
   ],
   "source": [
    "l1"
   ]
  },
  {
   "cell_type": "code",
   "execution_count": 11,
   "id": "25bfdc96-6825-4ac9-b920-f243df61f6c1",
   "metadata": {},
   "outputs": [
    {
     "name": "stdout",
     "output_type": "stream",
     "text": [
      "ashish\n"
     ]
    }
   ],
   "source": [
    "for i in l1:\n",
    "    if i ==\"mohit\":\n",
    "        break\n",
    "    print(i)    "
   ]
  },
  {
   "cell_type": "code",
   "execution_count": 12,
   "id": "0d0306b6-be79-44d0-ba12-3a671ab9a922",
   "metadata": {},
   "outputs": [
    {
     "data": {
      "text/plain": [
       "['ashish', 'mohit', 'fuggi', 'goli']"
      ]
     },
     "execution_count": 12,
     "metadata": {},
     "output_type": "execute_result"
    }
   ],
   "source": [
    "l1"
   ]
  },
  {
   "cell_type": "code",
   "execution_count": 13,
   "id": "29a463ac-bd40-43ad-8033-c0037bacc31f",
   "metadata": {},
   "outputs": [
    {
     "name": "stdout",
     "output_type": "stream",
     "text": [
      "ashish\n"
     ]
    }
   ],
   "source": [
    "for i in l1:\n",
    "    if i ==\"mohit\":\n",
    "        break\n",
    "    print(i)  \n",
    "else:\n",
    "    print(\"execute this if for loop is able to complete itself\")"
   ]
  },
  {
   "cell_type": "code",
   "execution_count": 14,
   "id": "1caf9769-13e1-449d-8845-7e9de95f92dd",
   "metadata": {},
   "outputs": [
    {
     "data": {
      "text/plain": [
       "['ashish', 'mohit', 'fuggi', 'goli']"
      ]
     },
     "execution_count": 14,
     "metadata": {},
     "output_type": "execute_result"
    }
   ],
   "source": [
    "l1"
   ]
  },
  {
   "cell_type": "code",
   "execution_count": 15,
   "id": "6769b832-31c2-4292-9af8-bad516b6396c",
   "metadata": {},
   "outputs": [
    {
     "name": "stdout",
     "output_type": "stream",
     "text": [
      "ashish\n",
      "fuggi\n",
      "goli\n"
     ]
    }
   ],
   "source": [
    "for i in l1:\n",
    "    if i == \"mohit\":\n",
    "        continue\n",
    "    print(i)    "
   ]
  },
  {
   "cell_type": "code",
   "execution_count": 16,
   "id": "8180ab9b-46c1-4529-aed8-ceff3ad83673",
   "metadata": {},
   "outputs": [
    {
     "name": "stdout",
     "output_type": "stream",
     "text": [
      "ashish\n",
      "fuggi\n",
      "goli\n",
      "hii\n"
     ]
    }
   ],
   "source": [
    "for i in l1:\n",
    "    if i == \"mohit\":\n",
    "        continue\n",
    "    print(i)  \n",
    "else:\n",
    "    print(\"hii\")"
   ]
  },
  {
   "cell_type": "code",
   "execution_count": 17,
   "id": "3fbfe183-f27a-4e54-ad90-38fed6376f31",
   "metadata": {},
   "outputs": [
    {
     "data": {
      "text/plain": [
       "range(0, 5)"
      ]
     },
     "execution_count": 17,
     "metadata": {},
     "output_type": "execute_result"
    }
   ],
   "source": [
    "range(5)"
   ]
  },
  {
   "cell_type": "code",
   "execution_count": 18,
   "id": "1a7927f2-57d6-4f01-96b4-072308ea7917",
   "metadata": {},
   "outputs": [
    {
     "data": {
      "text/plain": [
       "[0, 1, 2, 3, 4]"
      ]
     },
     "execution_count": 18,
     "metadata": {},
     "output_type": "execute_result"
    }
   ],
   "source": [
    "list(range(5))"
   ]
  },
  {
   "cell_type": "code",
   "execution_count": 19,
   "id": "95ce1c4e-225b-444b-b7bd-a099de88333e",
   "metadata": {},
   "outputs": [
    {
     "data": {
      "text/plain": [
       "[0, 1, 2, 3, 4]"
      ]
     },
     "execution_count": 19,
     "metadata": {},
     "output_type": "execute_result"
    }
   ],
   "source": [
    "list(range(0,5,1))"
   ]
  },
  {
   "cell_type": "code",
   "execution_count": 20,
   "id": "f8e651f3-9ffc-4eac-a2f4-74e790a49c27",
   "metadata": {},
   "outputs": [
    {
     "data": {
      "text/plain": [
       "[0, 2, 4, 6, 8, 10, 12, 14, 16, 18]"
      ]
     },
     "execution_count": 20,
     "metadata": {},
     "output_type": "execute_result"
    }
   ],
   "source": [
    "list(range(0,20,2))"
   ]
  },
  {
   "cell_type": "code",
   "execution_count": 21,
   "id": "d078cadf-5bcf-47f8-ada6-d9e64e6ae33b",
   "metadata": {},
   "outputs": [
    {
     "data": {
      "text/plain": [
       "[-10, -9, -8, -7, -6, -5, -4, -3, -2, -1]"
      ]
     },
     "execution_count": 21,
     "metadata": {},
     "output_type": "execute_result"
    }
   ],
   "source": [
    "list(range(-10,0))"
   ]
  },
  {
   "cell_type": "code",
   "execution_count": 22,
   "id": "7ed5dacf-daf6-4538-8c63-bd1c670d0805",
   "metadata": {},
   "outputs": [
    {
     "data": {
      "text/plain": [
       "['ashish', 'mohit', 'fuggi', 'goli']"
      ]
     },
     "execution_count": 22,
     "metadata": {},
     "output_type": "execute_result"
    }
   ],
   "source": [
    "l1"
   ]
  },
  {
   "cell_type": "code",
   "execution_count": 23,
   "id": "dd5234d3-85d7-441c-b182-c96ff2fcf7af",
   "metadata": {},
   "outputs": [
    {
     "data": {
      "text/plain": [
       "4"
      ]
     },
     "execution_count": 23,
     "metadata": {},
     "output_type": "execute_result"
    }
   ],
   "source": [
    "len(l1)"
   ]
  },
  {
   "cell_type": "code",
   "execution_count": 24,
   "id": "0a3c8b8d-dfb4-4d7e-be90-a6b51e59cfb3",
   "metadata": {},
   "outputs": [
    {
     "data": {
      "text/plain": [
       "[0, 1, 2, 3]"
      ]
     },
     "execution_count": 24,
     "metadata": {},
     "output_type": "execute_result"
    }
   ],
   "source": [
    "list(range(len(l1)))"
   ]
  },
  {
   "cell_type": "code",
   "execution_count": 25,
   "id": "c0fc6b27-3ef7-4810-86d5-b3ea16e3f84f",
   "metadata": {},
   "outputs": [
    {
     "name": "stdout",
     "output_type": "stream",
     "text": [
      "ashish\n",
      "mohit\n",
      "fuggi\n",
      "goli\n"
     ]
    }
   ],
   "source": [
    "for i in range(len(l1)):\n",
    "    print(l1[i])"
   ]
  },
  {
   "cell_type": "code",
   "execution_count": 26,
   "id": "ce87bfe2-7e3a-43ec-98a5-b1146b4871ff",
   "metadata": {},
   "outputs": [
    {
     "name": "stdout",
     "output_type": "stream",
     "text": [
      "goli\n",
      "fuggi\n",
      "mohit\n",
      "ashish\n"
     ]
    }
   ],
   "source": [
    "for i in range(len(l1)-1,-1,-1):\n",
    "    print(l1[i])"
   ]
  },
  {
   "cell_type": "code",
   "execution_count": 27,
   "id": "3c9edaa2-4b98-4659-b032-05306b78a325",
   "metadata": {},
   "outputs": [
    {
     "data": {
      "text/plain": [
       "['ashish', 'mohit', 'fuggi', 'goli']"
      ]
     },
     "execution_count": 27,
     "metadata": {},
     "output_type": "execute_result"
    }
   ],
   "source": [
    "l1"
   ]
  },
  {
   "cell_type": "code",
   "execution_count": 28,
   "id": "52d8dfc7-ff10-4386-8b8d-9948b9d05fbe",
   "metadata": {},
   "outputs": [],
   "source": [
    "l2=[23,46,47,38,39,3,5,67,68]"
   ]
  },
  {
   "cell_type": "code",
   "execution_count": 29,
   "id": "d2d2c993-60d6-4262-9b4e-e699f4287a76",
   "metadata": {},
   "outputs": [
    {
     "data": {
      "text/plain": [
       "[0, 2, 4, 6, 8]"
      ]
     },
     "execution_count": 29,
     "metadata": {},
     "output_type": "execute_result"
    }
   ],
   "source": [
    "list(range(0,len(l2),2))"
   ]
  },
  {
   "cell_type": "code",
   "execution_count": 32,
   "id": "29a5ce63-cf63-49c5-bb6a-7562233d9520",
   "metadata": {},
   "outputs": [
    {
     "name": "stdout",
     "output_type": "stream",
     "text": [
      "23\n",
      "47\n",
      "39\n",
      "5\n",
      "68\n"
     ]
    }
   ],
   "source": [
    "for i in (range(0,len(l2),2)):\n",
    "                print(l2[i])"
   ]
  },
  {
   "cell_type": "code",
   "execution_count": 33,
   "id": "79a66173-86b4-4318-afa5-4d39cdfd163b",
   "metadata": {},
   "outputs": [],
   "source": [
    "l=[1,2,3,4,5,65,7,87]"
   ]
  },
  {
   "cell_type": "code",
   "execution_count": 34,
   "id": "77ab1e03-d5bc-4cfb-bc06-ea449df1e1ee",
   "metadata": {},
   "outputs": [
    {
     "data": {
      "text/plain": [
       "174"
      ]
     },
     "execution_count": 34,
     "metadata": {},
     "output_type": "execute_result"
    }
   ],
   "source": [
    "sum(l)"
   ]
  },
  {
   "cell_type": "code",
   "execution_count": 35,
   "id": "e6ff2191-0bd1-4652-83f9-522e7e2a4228",
   "metadata": {},
   "outputs": [
    {
     "name": "stdout",
     "output_type": "stream",
     "text": [
      "174\n"
     ]
    }
   ],
   "source": [
    "sum=0\n",
    "for i in l:\n",
    "    sum=sum+i\n",
    "print(sum)    \n",
    "     "
   ]
  },
  {
   "cell_type": "code",
   "execution_count": 36,
   "id": "1ac998ec-e5ca-4962-9904-33d5e049e836",
   "metadata": {},
   "outputs": [
    {
     "data": {
      "text/plain": [
       "174"
      ]
     },
     "execution_count": 36,
     "metadata": {},
     "output_type": "execute_result"
    }
   ],
   "source": [
    "sum\n"
   ]
  },
  {
   "cell_type": "code",
   "execution_count": 37,
   "id": "411c16c0-830b-4e50-aa3e-3ea80044dd94",
   "metadata": {},
   "outputs": [],
   "source": [
    "t=(1,2,4,6,8,45,7)"
   ]
  },
  {
   "cell_type": "code",
   "execution_count": 38,
   "id": "a3bcc754-8089-4446-a7e0-4c534d720f2b",
   "metadata": {},
   "outputs": [
    {
     "name": "stdout",
     "output_type": "stream",
     "text": [
      "1\n",
      "2\n",
      "4\n",
      "6\n",
      "8\n",
      "45\n",
      "7\n"
     ]
    }
   ],
   "source": [
    "for i in t:\n",
    "    print(i)"
   ]
  },
  {
   "cell_type": "code",
   "execution_count": 39,
   "id": "fab0877c-3a52-453a-8766-411984b44a0c",
   "metadata": {},
   "outputs": [
    {
     "data": {
      "text/plain": [
       "73"
      ]
     },
     "execution_count": 39,
     "metadata": {},
     "output_type": "execute_result"
    }
   ],
   "source": [
    "sum=0\n",
    "for i in t:\n",
    "    sum+=i\n",
    "sum    "
   ]
  },
  {
   "cell_type": "code",
   "execution_count": 40,
   "id": "ec61e5e8-18af-41fc-95c6-c32b3165a673",
   "metadata": {},
   "outputs": [],
   "source": [
    "s={1,2,3,4,5,\"ashish\",\"pwskills\"}"
   ]
  },
  {
   "cell_type": "code",
   "execution_count": 41,
   "id": "3e72c851-26eb-417c-b5f7-ec07e185ed8d",
   "metadata": {},
   "outputs": [
    {
     "name": "stdout",
     "output_type": "stream",
     "text": [
      "1\n",
      "2\n",
      "3\n",
      "4\n",
      "5\n",
      "pwskills\n",
      "ashish\n"
     ]
    }
   ],
   "source": [
    "for i in s:\n",
    "    print(i)"
   ]
  },
  {
   "cell_type": "code",
   "execution_count": 42,
   "id": "6b48872f-523e-489b-b887-e4ae23d926c6",
   "metadata": {},
   "outputs": [],
   "source": [
    "s1=\"pwskills\""
   ]
  },
  {
   "cell_type": "code",
   "execution_count": 43,
   "id": "0c6e0c4e-7588-47de-96be-a88e7df4fc7e",
   "metadata": {},
   "outputs": [
    {
     "name": "stdout",
     "output_type": "stream",
     "text": [
      "p\n",
      "w\n",
      "s\n",
      "k\n",
      "i\n",
      "l\n",
      "l\n",
      "s\n"
     ]
    }
   ],
   "source": [
    "for i in s1:\n",
    "    print(i)"
   ]
  },
  {
   "cell_type": "code",
   "execution_count": 44,
   "id": "df4ff7b2-7e04-428d-8776-a88e3c4d77ed",
   "metadata": {},
   "outputs": [],
   "source": [
    "d={\"name\": \"ashish\",\"class\":\"datascience\",\"topic\":[\"python\",\"stats\",\"ML\"]}"
   ]
  },
  {
   "cell_type": "code",
   "execution_count": 45,
   "id": "5e4e57cb-763c-4c25-9901-c9d5dec4342f",
   "metadata": {},
   "outputs": [
    {
     "data": {
      "text/plain": [
       "{'name': 'ashish', 'class': 'datascience', 'topic': ['python', 'stats', 'ML']}"
      ]
     },
     "execution_count": 45,
     "metadata": {},
     "output_type": "execute_result"
    }
   ],
   "source": [
    "d"
   ]
  },
  {
   "cell_type": "code",
   "execution_count": 46,
   "id": "3a537b29-7352-42b8-be46-1639bc501689",
   "metadata": {},
   "outputs": [
    {
     "data": {
      "text/plain": [
       "'ashish'"
      ]
     },
     "execution_count": 46,
     "metadata": {},
     "output_type": "execute_result"
    }
   ],
   "source": [
    "d['name']"
   ]
  },
  {
   "cell_type": "code",
   "execution_count": 47,
   "id": "1c3ed0bd-b249-47cf-8578-74697e35fd5a",
   "metadata": {},
   "outputs": [
    {
     "data": {
      "text/plain": [
       "dict_keys(['name', 'class', 'topic'])"
      ]
     },
     "execution_count": 47,
     "metadata": {},
     "output_type": "execute_result"
    }
   ],
   "source": [
    "d.keys()"
   ]
  },
  {
   "cell_type": "code",
   "execution_count": 49,
   "id": "376d4a0b-0bc6-4343-a06a-024a5bd4e4ad",
   "metadata": {},
   "outputs": [
    {
     "name": "stdout",
     "output_type": "stream",
     "text": [
      "ashish\n",
      "datascience\n",
      "['python', 'stats', 'ML']\n"
     ]
    }
   ],
   "source": [
    "for i in d.keys():\n",
    "    print(d[i])"
   ]
  },
  {
   "cell_type": "code",
   "execution_count": 50,
   "id": "ee4498e4-e94b-43fa-97b7-9857d11fd223",
   "metadata": {},
   "outputs": [
    {
     "data": {
      "text/plain": [
       "dict_values(['ashish', 'datascience', ['python', 'stats', 'ML']])"
      ]
     },
     "execution_count": 50,
     "metadata": {},
     "output_type": "execute_result"
    }
   ],
   "source": [
    "d.values()"
   ]
  },
  {
   "cell_type": "code",
   "execution_count": 51,
   "id": "a0df656b-f6e5-47b3-85ca-1b78c6b55e26",
   "metadata": {},
   "outputs": [
    {
     "name": "stdout",
     "output_type": "stream",
     "text": [
      "ashish\n",
      "datascience\n",
      "['python', 'stats', 'ML']\n"
     ]
    }
   ],
   "source": [
    "for i in d.values():\n",
    "    print(i)"
   ]
  },
  {
   "cell_type": "code",
   "execution_count": 52,
   "id": "deb80f59-4510-46a6-8814-03cedb8f8f73",
   "metadata": {},
   "outputs": [
    {
     "data": {
      "text/plain": [
       "dict_items([('name', 'ashish'), ('class', 'datascience'), ('topic', ['python', 'stats', 'ML'])])"
      ]
     },
     "execution_count": 52,
     "metadata": {},
     "output_type": "execute_result"
    }
   ],
   "source": [
    "d.items()"
   ]
  },
  {
   "cell_type": "code",
   "execution_count": 53,
   "id": "3ede25fb-a64f-4239-9a41-5b665f7f25af",
   "metadata": {},
   "outputs": [
    {
     "name": "stdout",
     "output_type": "stream",
     "text": [
      "('name', 'ashish')\n",
      "('class', 'datascience')\n",
      "('topic', ['python', 'stats', 'ML'])\n"
     ]
    }
   ],
   "source": [
    "for i in d.items():\n",
    "    print(i)"
   ]
  },
  {
   "cell_type": "code",
   "execution_count": null,
   "id": "2e6ba386-7d0a-4afb-866c-4ec38f639331",
   "metadata": {},
   "outputs": [],
   "source": []
  }
 ],
 "metadata": {
  "kernelspec": {
   "display_name": "Python 3 (ipykernel)",
   "language": "python",
   "name": "python3"
  },
  "language_info": {
   "codemirror_mode": {
    "name": "ipython",
    "version": 3
   },
   "file_extension": ".py",
   "mimetype": "text/x-python",
   "name": "python",
   "nbconvert_exporter": "python",
   "pygments_lexer": "ipython3",
   "version": "3.10.8"
  }
 },
 "nbformat": 4,
 "nbformat_minor": 5
}
